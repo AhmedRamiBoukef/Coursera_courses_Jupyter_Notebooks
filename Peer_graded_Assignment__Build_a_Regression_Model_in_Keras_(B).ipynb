{
  "cells": [
    {
      "cell_type": "markdown",
      "metadata": {
        "id": "ruU34wItFsR1"
      },
      "source": [
        "## Download and Clean Dataset"
      ]
    },
    {
      "cell_type": "markdown",
      "metadata": {
        "id": "o1N3evhmFsR8"
      },
      "source": [
        "Let's start by importing the <em>pandas</em> and the Numpy libraries."
      ]
    },
    {
      "cell_type": "code",
      "execution_count": 1,
      "metadata": {
        "id": "xQrjCEDiFsR9"
      },
      "outputs": [],
      "source": [
        "import pandas as pd\n",
        "import numpy as np"
      ]
    },
    {
      "cell_type": "markdown",
      "metadata": {
        "id": "2e8f88h6FsR_"
      },
      "source": [
        "We will be using the dataset provided in the assignment\n",
        "\n",
        "<strong>The dataset is about the compressive strength of different samples of concrete based on the volumes of the different ingredients that were used to make them. Ingredients include:</strong>\n",
        "\n",
        "<strong>1. Cement</strong>\n",
        "\n",
        "<strong>2. Blast Furnace Slag</strong>\n",
        "\n",
        "<strong>3. Fly Ash</strong>\n",
        "\n",
        "<strong>4. Water</strong>\n",
        "\n",
        "<strong>5. Superplasticizer</strong>\n",
        "\n",
        "<strong>6. Coarse Aggregate</strong>\n",
        "\n",
        "<strong>7. Fine Aggregate</strong>"
      ]
    },
    {
      "cell_type": "markdown",
      "metadata": {
        "id": "GKdf1NzgFsSA"
      },
      "source": [
        "Let's read the dataset into a <em>pandas</em> dataframe."
      ]
    },
    {
      "cell_type": "code",
      "execution_count": 3,
      "metadata": {
        "colab": {
          "base_uri": "https://localhost:8080/",
          "height": 206
        },
        "id": "U0csUjPBFsSB",
        "outputId": "3a669c8e-84aa-48c2-8a58-b1ce6ee40913"
      },
      "outputs": [
        {
          "output_type": "execute_result",
          "data": {
            "text/plain": [
              "   Cement  Blast Furnace Slag  Fly Ash  Water  Superplasticizer  \\\n",
              "0   540.0                 0.0      0.0  162.0               2.5   \n",
              "1   540.0                 0.0      0.0  162.0               2.5   \n",
              "2   332.5               142.5      0.0  228.0               0.0   \n",
              "3   332.5               142.5      0.0  228.0               0.0   \n",
              "4   198.6               132.4      0.0  192.0               0.0   \n",
              "\n",
              "   Coarse Aggregate  Fine Aggregate  Age  Strength  \n",
              "0            1040.0           676.0   28     79.99  \n",
              "1            1055.0           676.0   28     61.89  \n",
              "2             932.0           594.0  270     40.27  \n",
              "3             932.0           594.0  365     41.05  \n",
              "4             978.4           825.5  360     44.30  "
            ],
            "text/html": [
              "\n",
              "  <div id=\"df-596563da-1a4a-4f99-a187-a32d8704361f\">\n",
              "    <div class=\"colab-df-container\">\n",
              "      <div>\n",
              "<style scoped>\n",
              "    .dataframe tbody tr th:only-of-type {\n",
              "        vertical-align: middle;\n",
              "    }\n",
              "\n",
              "    .dataframe tbody tr th {\n",
              "        vertical-align: top;\n",
              "    }\n",
              "\n",
              "    .dataframe thead th {\n",
              "        text-align: right;\n",
              "    }\n",
              "</style>\n",
              "<table border=\"1\" class=\"dataframe\">\n",
              "  <thead>\n",
              "    <tr style=\"text-align: right;\">\n",
              "      <th></th>\n",
              "      <th>Cement</th>\n",
              "      <th>Blast Furnace Slag</th>\n",
              "      <th>Fly Ash</th>\n",
              "      <th>Water</th>\n",
              "      <th>Superplasticizer</th>\n",
              "      <th>Coarse Aggregate</th>\n",
              "      <th>Fine Aggregate</th>\n",
              "      <th>Age</th>\n",
              "      <th>Strength</th>\n",
              "    </tr>\n",
              "  </thead>\n",
              "  <tbody>\n",
              "    <tr>\n",
              "      <th>0</th>\n",
              "      <td>540.0</td>\n",
              "      <td>0.0</td>\n",
              "      <td>0.0</td>\n",
              "      <td>162.0</td>\n",
              "      <td>2.5</td>\n",
              "      <td>1040.0</td>\n",
              "      <td>676.0</td>\n",
              "      <td>28</td>\n",
              "      <td>79.99</td>\n",
              "    </tr>\n",
              "    <tr>\n",
              "      <th>1</th>\n",
              "      <td>540.0</td>\n",
              "      <td>0.0</td>\n",
              "      <td>0.0</td>\n",
              "      <td>162.0</td>\n",
              "      <td>2.5</td>\n",
              "      <td>1055.0</td>\n",
              "      <td>676.0</td>\n",
              "      <td>28</td>\n",
              "      <td>61.89</td>\n",
              "    </tr>\n",
              "    <tr>\n",
              "      <th>2</th>\n",
              "      <td>332.5</td>\n",
              "      <td>142.5</td>\n",
              "      <td>0.0</td>\n",
              "      <td>228.0</td>\n",
              "      <td>0.0</td>\n",
              "      <td>932.0</td>\n",
              "      <td>594.0</td>\n",
              "      <td>270</td>\n",
              "      <td>40.27</td>\n",
              "    </tr>\n",
              "    <tr>\n",
              "      <th>3</th>\n",
              "      <td>332.5</td>\n",
              "      <td>142.5</td>\n",
              "      <td>0.0</td>\n",
              "      <td>228.0</td>\n",
              "      <td>0.0</td>\n",
              "      <td>932.0</td>\n",
              "      <td>594.0</td>\n",
              "      <td>365</td>\n",
              "      <td>41.05</td>\n",
              "    </tr>\n",
              "    <tr>\n",
              "      <th>4</th>\n",
              "      <td>198.6</td>\n",
              "      <td>132.4</td>\n",
              "      <td>0.0</td>\n",
              "      <td>192.0</td>\n",
              "      <td>0.0</td>\n",
              "      <td>978.4</td>\n",
              "      <td>825.5</td>\n",
              "      <td>360</td>\n",
              "      <td>44.30</td>\n",
              "    </tr>\n",
              "  </tbody>\n",
              "</table>\n",
              "</div>\n",
              "      <button class=\"colab-df-convert\" onclick=\"convertToInteractive('df-596563da-1a4a-4f99-a187-a32d8704361f')\"\n",
              "              title=\"Convert this dataframe to an interactive table.\"\n",
              "              style=\"display:none;\">\n",
              "        \n",
              "  <svg xmlns=\"http://www.w3.org/2000/svg\" height=\"24px\"viewBox=\"0 0 24 24\"\n",
              "       width=\"24px\">\n",
              "    <path d=\"M0 0h24v24H0V0z\" fill=\"none\"/>\n",
              "    <path d=\"M18.56 5.44l.94 2.06.94-2.06 2.06-.94-2.06-.94-.94-2.06-.94 2.06-2.06.94zm-11 1L8.5 8.5l.94-2.06 2.06-.94-2.06-.94L8.5 2.5l-.94 2.06-2.06.94zm10 10l.94 2.06.94-2.06 2.06-.94-2.06-.94-.94-2.06-.94 2.06-2.06.94z\"/><path d=\"M17.41 7.96l-1.37-1.37c-.4-.4-.92-.59-1.43-.59-.52 0-1.04.2-1.43.59L10.3 9.45l-7.72 7.72c-.78.78-.78 2.05 0 2.83L4 21.41c.39.39.9.59 1.41.59.51 0 1.02-.2 1.41-.59l7.78-7.78 2.81-2.81c.8-.78.8-2.07 0-2.86zM5.41 20L4 18.59l7.72-7.72 1.47 1.35L5.41 20z\"/>\n",
              "  </svg>\n",
              "      </button>\n",
              "      \n",
              "  <style>\n",
              "    .colab-df-container {\n",
              "      display:flex;\n",
              "      flex-wrap:wrap;\n",
              "      gap: 12px;\n",
              "    }\n",
              "\n",
              "    .colab-df-convert {\n",
              "      background-color: #E8F0FE;\n",
              "      border: none;\n",
              "      border-radius: 50%;\n",
              "      cursor: pointer;\n",
              "      display: none;\n",
              "      fill: #1967D2;\n",
              "      height: 32px;\n",
              "      padding: 0 0 0 0;\n",
              "      width: 32px;\n",
              "    }\n",
              "\n",
              "    .colab-df-convert:hover {\n",
              "      background-color: #E2EBFA;\n",
              "      box-shadow: 0px 1px 2px rgba(60, 64, 67, 0.3), 0px 1px 3px 1px rgba(60, 64, 67, 0.15);\n",
              "      fill: #174EA6;\n",
              "    }\n",
              "\n",
              "    [theme=dark] .colab-df-convert {\n",
              "      background-color: #3B4455;\n",
              "      fill: #D2E3FC;\n",
              "    }\n",
              "\n",
              "    [theme=dark] .colab-df-convert:hover {\n",
              "      background-color: #434B5C;\n",
              "      box-shadow: 0px 1px 3px 1px rgba(0, 0, 0, 0.15);\n",
              "      filter: drop-shadow(0px 1px 2px rgba(0, 0, 0, 0.3));\n",
              "      fill: #FFFFFF;\n",
              "    }\n",
              "  </style>\n",
              "\n",
              "      <script>\n",
              "        const buttonEl =\n",
              "          document.querySelector('#df-596563da-1a4a-4f99-a187-a32d8704361f button.colab-df-convert');\n",
              "        buttonEl.style.display =\n",
              "          google.colab.kernel.accessAllowed ? 'block' : 'none';\n",
              "\n",
              "        async function convertToInteractive(key) {\n",
              "          const element = document.querySelector('#df-596563da-1a4a-4f99-a187-a32d8704361f');\n",
              "          const dataTable =\n",
              "            await google.colab.kernel.invokeFunction('convertToInteractive',\n",
              "                                                     [key], {});\n",
              "          if (!dataTable) return;\n",
              "\n",
              "          const docLinkHtml = 'Like what you see? Visit the ' +\n",
              "            '<a target=\"_blank\" href=https://colab.research.google.com/notebooks/data_table.ipynb>data table notebook</a>'\n",
              "            + ' to learn more about interactive tables.';\n",
              "          element.innerHTML = '';\n",
              "          dataTable['output_type'] = 'display_data';\n",
              "          await google.colab.output.renderOutput(dataTable, element);\n",
              "          const docLink = document.createElement('div');\n",
              "          docLink.innerHTML = docLinkHtml;\n",
              "          element.appendChild(docLink);\n",
              "        }\n",
              "      </script>\n",
              "    </div>\n",
              "  </div>\n",
              "  "
            ]
          },
          "metadata": {},
          "execution_count": 3
        }
      ],
      "source": [
        "concrete_data = pd.read_csv('https://s3-api.us-geo.objectstorage.softlayer.net/cf-courses-data/CognitiveClass/DL0101EN/labs/data/concrete_data.csv')\n",
        "concrete_data.head()"
      ]
    },
    {
      "cell_type": "markdown",
      "metadata": {
        "id": "N-91evV8FsSC"
      },
      "source": [
        "So the first concrete sample has 540 cubic meter of cement, 0 cubic meter of blast furnace slag, 0 cubic meter of fly ash, 162 cubic meter of water, 2.5 cubic meter of superplaticizer, 1040 cubic meter of coarse aggregate, 676 cubic meter of fine aggregate. Such a concrete mix which is 28 days old, has a compressive strength of 79.99 MPa. "
      ]
    },
    {
      "cell_type": "markdown",
      "metadata": {
        "id": "XHSCAipRFsSD"
      },
      "source": [
        "#### Let's check how many data points we have."
      ]
    },
    {
      "cell_type": "code",
      "execution_count": 4,
      "metadata": {
        "colab": {
          "base_uri": "https://localhost:8080/"
        },
        "id": "3ixnMLQMFsSD",
        "outputId": "b098b8f3-581e-47e2-a727-a5cfa5ac3e87"
      },
      "outputs": [
        {
          "output_type": "execute_result",
          "data": {
            "text/plain": [
              "(1030, 9)"
            ]
          },
          "metadata": {},
          "execution_count": 4
        }
      ],
      "source": [
        "concrete_data.shape"
      ]
    },
    {
      "cell_type": "markdown",
      "metadata": {
        "id": "PEizFLsYFsSE"
      },
      "source": [
        "So, there are approximately 1000 samples to train our model on. Because of the few samples, we have to be careful not to overfit the training data."
      ]
    },
    {
      "cell_type": "markdown",
      "metadata": {
        "id": "oZZYUcFuFsSE"
      },
      "source": [
        "Let's check the dataset for any missing values."
      ]
    },
    {
      "cell_type": "code",
      "execution_count": 5,
      "metadata": {
        "colab": {
          "base_uri": "https://localhost:8080/",
          "height": 300
        },
        "id": "Rf4VeIinFsSF",
        "outputId": "c47fcf88-8fb2-4937-942d-73447cebea04"
      },
      "outputs": [
        {
          "output_type": "execute_result",
          "data": {
            "text/plain": [
              "            Cement  Blast Furnace Slag      Fly Ash        Water  \\\n",
              "count  1030.000000         1030.000000  1030.000000  1030.000000   \n",
              "mean    281.167864           73.895825    54.188350   181.567282   \n",
              "std     104.506364           86.279342    63.997004    21.354219   \n",
              "min     102.000000            0.000000     0.000000   121.800000   \n",
              "25%     192.375000            0.000000     0.000000   164.900000   \n",
              "50%     272.900000           22.000000     0.000000   185.000000   \n",
              "75%     350.000000          142.950000   118.300000   192.000000   \n",
              "max     540.000000          359.400000   200.100000   247.000000   \n",
              "\n",
              "       Superplasticizer  Coarse Aggregate  Fine Aggregate          Age  \\\n",
              "count       1030.000000       1030.000000     1030.000000  1030.000000   \n",
              "mean           6.204660        972.918932      773.580485    45.662136   \n",
              "std            5.973841         77.753954       80.175980    63.169912   \n",
              "min            0.000000        801.000000      594.000000     1.000000   \n",
              "25%            0.000000        932.000000      730.950000     7.000000   \n",
              "50%            6.400000        968.000000      779.500000    28.000000   \n",
              "75%           10.200000       1029.400000      824.000000    56.000000   \n",
              "max           32.200000       1145.000000      992.600000   365.000000   \n",
              "\n",
              "          Strength  \n",
              "count  1030.000000  \n",
              "mean     35.817961  \n",
              "std      16.705742  \n",
              "min       2.330000  \n",
              "25%      23.710000  \n",
              "50%      34.445000  \n",
              "75%      46.135000  \n",
              "max      82.600000  "
            ],
            "text/html": [
              "\n",
              "  <div id=\"df-6d9831e0-206a-4547-b978-46109be6308e\">\n",
              "    <div class=\"colab-df-container\">\n",
              "      <div>\n",
              "<style scoped>\n",
              "    .dataframe tbody tr th:only-of-type {\n",
              "        vertical-align: middle;\n",
              "    }\n",
              "\n",
              "    .dataframe tbody tr th {\n",
              "        vertical-align: top;\n",
              "    }\n",
              "\n",
              "    .dataframe thead th {\n",
              "        text-align: right;\n",
              "    }\n",
              "</style>\n",
              "<table border=\"1\" class=\"dataframe\">\n",
              "  <thead>\n",
              "    <tr style=\"text-align: right;\">\n",
              "      <th></th>\n",
              "      <th>Cement</th>\n",
              "      <th>Blast Furnace Slag</th>\n",
              "      <th>Fly Ash</th>\n",
              "      <th>Water</th>\n",
              "      <th>Superplasticizer</th>\n",
              "      <th>Coarse Aggregate</th>\n",
              "      <th>Fine Aggregate</th>\n",
              "      <th>Age</th>\n",
              "      <th>Strength</th>\n",
              "    </tr>\n",
              "  </thead>\n",
              "  <tbody>\n",
              "    <tr>\n",
              "      <th>count</th>\n",
              "      <td>1030.000000</td>\n",
              "      <td>1030.000000</td>\n",
              "      <td>1030.000000</td>\n",
              "      <td>1030.000000</td>\n",
              "      <td>1030.000000</td>\n",
              "      <td>1030.000000</td>\n",
              "      <td>1030.000000</td>\n",
              "      <td>1030.000000</td>\n",
              "      <td>1030.000000</td>\n",
              "    </tr>\n",
              "    <tr>\n",
              "      <th>mean</th>\n",
              "      <td>281.167864</td>\n",
              "      <td>73.895825</td>\n",
              "      <td>54.188350</td>\n",
              "      <td>181.567282</td>\n",
              "      <td>6.204660</td>\n",
              "      <td>972.918932</td>\n",
              "      <td>773.580485</td>\n",
              "      <td>45.662136</td>\n",
              "      <td>35.817961</td>\n",
              "    </tr>\n",
              "    <tr>\n",
              "      <th>std</th>\n",
              "      <td>104.506364</td>\n",
              "      <td>86.279342</td>\n",
              "      <td>63.997004</td>\n",
              "      <td>21.354219</td>\n",
              "      <td>5.973841</td>\n",
              "      <td>77.753954</td>\n",
              "      <td>80.175980</td>\n",
              "      <td>63.169912</td>\n",
              "      <td>16.705742</td>\n",
              "    </tr>\n",
              "    <tr>\n",
              "      <th>min</th>\n",
              "      <td>102.000000</td>\n",
              "      <td>0.000000</td>\n",
              "      <td>0.000000</td>\n",
              "      <td>121.800000</td>\n",
              "      <td>0.000000</td>\n",
              "      <td>801.000000</td>\n",
              "      <td>594.000000</td>\n",
              "      <td>1.000000</td>\n",
              "      <td>2.330000</td>\n",
              "    </tr>\n",
              "    <tr>\n",
              "      <th>25%</th>\n",
              "      <td>192.375000</td>\n",
              "      <td>0.000000</td>\n",
              "      <td>0.000000</td>\n",
              "      <td>164.900000</td>\n",
              "      <td>0.000000</td>\n",
              "      <td>932.000000</td>\n",
              "      <td>730.950000</td>\n",
              "      <td>7.000000</td>\n",
              "      <td>23.710000</td>\n",
              "    </tr>\n",
              "    <tr>\n",
              "      <th>50%</th>\n",
              "      <td>272.900000</td>\n",
              "      <td>22.000000</td>\n",
              "      <td>0.000000</td>\n",
              "      <td>185.000000</td>\n",
              "      <td>6.400000</td>\n",
              "      <td>968.000000</td>\n",
              "      <td>779.500000</td>\n",
              "      <td>28.000000</td>\n",
              "      <td>34.445000</td>\n",
              "    </tr>\n",
              "    <tr>\n",
              "      <th>75%</th>\n",
              "      <td>350.000000</td>\n",
              "      <td>142.950000</td>\n",
              "      <td>118.300000</td>\n",
              "      <td>192.000000</td>\n",
              "      <td>10.200000</td>\n",
              "      <td>1029.400000</td>\n",
              "      <td>824.000000</td>\n",
              "      <td>56.000000</td>\n",
              "      <td>46.135000</td>\n",
              "    </tr>\n",
              "    <tr>\n",
              "      <th>max</th>\n",
              "      <td>540.000000</td>\n",
              "      <td>359.400000</td>\n",
              "      <td>200.100000</td>\n",
              "      <td>247.000000</td>\n",
              "      <td>32.200000</td>\n",
              "      <td>1145.000000</td>\n",
              "      <td>992.600000</td>\n",
              "      <td>365.000000</td>\n",
              "      <td>82.600000</td>\n",
              "    </tr>\n",
              "  </tbody>\n",
              "</table>\n",
              "</div>\n",
              "      <button class=\"colab-df-convert\" onclick=\"convertToInteractive('df-6d9831e0-206a-4547-b978-46109be6308e')\"\n",
              "              title=\"Convert this dataframe to an interactive table.\"\n",
              "              style=\"display:none;\">\n",
              "        \n",
              "  <svg xmlns=\"http://www.w3.org/2000/svg\" height=\"24px\"viewBox=\"0 0 24 24\"\n",
              "       width=\"24px\">\n",
              "    <path d=\"M0 0h24v24H0V0z\" fill=\"none\"/>\n",
              "    <path d=\"M18.56 5.44l.94 2.06.94-2.06 2.06-.94-2.06-.94-.94-2.06-.94 2.06-2.06.94zm-11 1L8.5 8.5l.94-2.06 2.06-.94-2.06-.94L8.5 2.5l-.94 2.06-2.06.94zm10 10l.94 2.06.94-2.06 2.06-.94-2.06-.94-.94-2.06-.94 2.06-2.06.94z\"/><path d=\"M17.41 7.96l-1.37-1.37c-.4-.4-.92-.59-1.43-.59-.52 0-1.04.2-1.43.59L10.3 9.45l-7.72 7.72c-.78.78-.78 2.05 0 2.83L4 21.41c.39.39.9.59 1.41.59.51 0 1.02-.2 1.41-.59l7.78-7.78 2.81-2.81c.8-.78.8-2.07 0-2.86zM5.41 20L4 18.59l7.72-7.72 1.47 1.35L5.41 20z\"/>\n",
              "  </svg>\n",
              "      </button>\n",
              "      \n",
              "  <style>\n",
              "    .colab-df-container {\n",
              "      display:flex;\n",
              "      flex-wrap:wrap;\n",
              "      gap: 12px;\n",
              "    }\n",
              "\n",
              "    .colab-df-convert {\n",
              "      background-color: #E8F0FE;\n",
              "      border: none;\n",
              "      border-radius: 50%;\n",
              "      cursor: pointer;\n",
              "      display: none;\n",
              "      fill: #1967D2;\n",
              "      height: 32px;\n",
              "      padding: 0 0 0 0;\n",
              "      width: 32px;\n",
              "    }\n",
              "\n",
              "    .colab-df-convert:hover {\n",
              "      background-color: #E2EBFA;\n",
              "      box-shadow: 0px 1px 2px rgba(60, 64, 67, 0.3), 0px 1px 3px 1px rgba(60, 64, 67, 0.15);\n",
              "      fill: #174EA6;\n",
              "    }\n",
              "\n",
              "    [theme=dark] .colab-df-convert {\n",
              "      background-color: #3B4455;\n",
              "      fill: #D2E3FC;\n",
              "    }\n",
              "\n",
              "    [theme=dark] .colab-df-convert:hover {\n",
              "      background-color: #434B5C;\n",
              "      box-shadow: 0px 1px 3px 1px rgba(0, 0, 0, 0.15);\n",
              "      filter: drop-shadow(0px 1px 2px rgba(0, 0, 0, 0.3));\n",
              "      fill: #FFFFFF;\n",
              "    }\n",
              "  </style>\n",
              "\n",
              "      <script>\n",
              "        const buttonEl =\n",
              "          document.querySelector('#df-6d9831e0-206a-4547-b978-46109be6308e button.colab-df-convert');\n",
              "        buttonEl.style.display =\n",
              "          google.colab.kernel.accessAllowed ? 'block' : 'none';\n",
              "\n",
              "        async function convertToInteractive(key) {\n",
              "          const element = document.querySelector('#df-6d9831e0-206a-4547-b978-46109be6308e');\n",
              "          const dataTable =\n",
              "            await google.colab.kernel.invokeFunction('convertToInteractive',\n",
              "                                                     [key], {});\n",
              "          if (!dataTable) return;\n",
              "\n",
              "          const docLinkHtml = 'Like what you see? Visit the ' +\n",
              "            '<a target=\"_blank\" href=https://colab.research.google.com/notebooks/data_table.ipynb>data table notebook</a>'\n",
              "            + ' to learn more about interactive tables.';\n",
              "          element.innerHTML = '';\n",
              "          dataTable['output_type'] = 'display_data';\n",
              "          await google.colab.output.renderOutput(dataTable, element);\n",
              "          const docLink = document.createElement('div');\n",
              "          docLink.innerHTML = docLinkHtml;\n",
              "          element.appendChild(docLink);\n",
              "        }\n",
              "      </script>\n",
              "    </div>\n",
              "  </div>\n",
              "  "
            ]
          },
          "metadata": {},
          "execution_count": 5
        }
      ],
      "source": [
        "concrete_data.describe()"
      ]
    },
    {
      "cell_type": "code",
      "execution_count": 6,
      "metadata": {
        "colab": {
          "base_uri": "https://localhost:8080/"
        },
        "id": "-bnRcTtwFsSF",
        "outputId": "2e645e09-0b54-4503-e746-54486fdba5eb"
      },
      "outputs": [
        {
          "output_type": "execute_result",
          "data": {
            "text/plain": [
              "Cement                0\n",
              "Blast Furnace Slag    0\n",
              "Fly Ash               0\n",
              "Water                 0\n",
              "Superplasticizer      0\n",
              "Coarse Aggregate      0\n",
              "Fine Aggregate        0\n",
              "Age                   0\n",
              "Strength              0\n",
              "dtype: int64"
            ]
          },
          "metadata": {},
          "execution_count": 6
        }
      ],
      "source": [
        "concrete_data.isnull().sum()"
      ]
    },
    {
      "cell_type": "markdown",
      "metadata": {
        "id": "VZ4cqtZUFsSG"
      },
      "source": [
        "The data looks very clean and is ready to be used to build our model."
      ]
    },
    {
      "cell_type": "markdown",
      "metadata": {
        "id": "6fDlhw1MFsSG"
      },
      "source": [
        "#### Split data into predictors and target"
      ]
    },
    {
      "cell_type": "markdown",
      "metadata": {
        "id": "SlwQ3aUzFsSG"
      },
      "source": [
        "The target variable in this problem is the concrete sample strength. Therefore, our predictors will be all the other columns."
      ]
    },
    {
      "cell_type": "code",
      "execution_count": 7,
      "metadata": {
        "id": "q8ya9mR-FsSH"
      },
      "outputs": [],
      "source": [
        "concrete_data_columns = concrete_data.columns\n",
        "predictors = concrete_data[concrete_data_columns[concrete_data_columns != 'Strength']] # all columns except Strength\n",
        "target = concrete_data['Strength'] # Strength column"
      ]
    },
    {
      "cell_type": "markdown",
      "metadata": {
        "id": "DkAhiP5oFsSH"
      },
      "source": [
        "Let's do a quick sanity check of the predictors and the target dataframes."
      ]
    },
    {
      "cell_type": "code",
      "execution_count": 8,
      "metadata": {
        "colab": {
          "base_uri": "https://localhost:8080/",
          "height": 206
        },
        "id": "3U4h-73DFsSH",
        "outputId": "6ea10521-96c1-4d91-ca7c-30814337906b"
      },
      "outputs": [
        {
          "output_type": "execute_result",
          "data": {
            "text/plain": [
              "   Cement  Blast Furnace Slag  Fly Ash  Water  Superplasticizer  \\\n",
              "0   540.0                 0.0      0.0  162.0               2.5   \n",
              "1   540.0                 0.0      0.0  162.0               2.5   \n",
              "2   332.5               142.5      0.0  228.0               0.0   \n",
              "3   332.5               142.5      0.0  228.0               0.0   \n",
              "4   198.6               132.4      0.0  192.0               0.0   \n",
              "\n",
              "   Coarse Aggregate  Fine Aggregate  Age  \n",
              "0            1040.0           676.0   28  \n",
              "1            1055.0           676.0   28  \n",
              "2             932.0           594.0  270  \n",
              "3             932.0           594.0  365  \n",
              "4             978.4           825.5  360  "
            ],
            "text/html": [
              "\n",
              "  <div id=\"df-8b6b45ce-c2a0-40df-b245-9bddf21d62ea\">\n",
              "    <div class=\"colab-df-container\">\n",
              "      <div>\n",
              "<style scoped>\n",
              "    .dataframe tbody tr th:only-of-type {\n",
              "        vertical-align: middle;\n",
              "    }\n",
              "\n",
              "    .dataframe tbody tr th {\n",
              "        vertical-align: top;\n",
              "    }\n",
              "\n",
              "    .dataframe thead th {\n",
              "        text-align: right;\n",
              "    }\n",
              "</style>\n",
              "<table border=\"1\" class=\"dataframe\">\n",
              "  <thead>\n",
              "    <tr style=\"text-align: right;\">\n",
              "      <th></th>\n",
              "      <th>Cement</th>\n",
              "      <th>Blast Furnace Slag</th>\n",
              "      <th>Fly Ash</th>\n",
              "      <th>Water</th>\n",
              "      <th>Superplasticizer</th>\n",
              "      <th>Coarse Aggregate</th>\n",
              "      <th>Fine Aggregate</th>\n",
              "      <th>Age</th>\n",
              "    </tr>\n",
              "  </thead>\n",
              "  <tbody>\n",
              "    <tr>\n",
              "      <th>0</th>\n",
              "      <td>540.0</td>\n",
              "      <td>0.0</td>\n",
              "      <td>0.0</td>\n",
              "      <td>162.0</td>\n",
              "      <td>2.5</td>\n",
              "      <td>1040.0</td>\n",
              "      <td>676.0</td>\n",
              "      <td>28</td>\n",
              "    </tr>\n",
              "    <tr>\n",
              "      <th>1</th>\n",
              "      <td>540.0</td>\n",
              "      <td>0.0</td>\n",
              "      <td>0.0</td>\n",
              "      <td>162.0</td>\n",
              "      <td>2.5</td>\n",
              "      <td>1055.0</td>\n",
              "      <td>676.0</td>\n",
              "      <td>28</td>\n",
              "    </tr>\n",
              "    <tr>\n",
              "      <th>2</th>\n",
              "      <td>332.5</td>\n",
              "      <td>142.5</td>\n",
              "      <td>0.0</td>\n",
              "      <td>228.0</td>\n",
              "      <td>0.0</td>\n",
              "      <td>932.0</td>\n",
              "      <td>594.0</td>\n",
              "      <td>270</td>\n",
              "    </tr>\n",
              "    <tr>\n",
              "      <th>3</th>\n",
              "      <td>332.5</td>\n",
              "      <td>142.5</td>\n",
              "      <td>0.0</td>\n",
              "      <td>228.0</td>\n",
              "      <td>0.0</td>\n",
              "      <td>932.0</td>\n",
              "      <td>594.0</td>\n",
              "      <td>365</td>\n",
              "    </tr>\n",
              "    <tr>\n",
              "      <th>4</th>\n",
              "      <td>198.6</td>\n",
              "      <td>132.4</td>\n",
              "      <td>0.0</td>\n",
              "      <td>192.0</td>\n",
              "      <td>0.0</td>\n",
              "      <td>978.4</td>\n",
              "      <td>825.5</td>\n",
              "      <td>360</td>\n",
              "    </tr>\n",
              "  </tbody>\n",
              "</table>\n",
              "</div>\n",
              "      <button class=\"colab-df-convert\" onclick=\"convertToInteractive('df-8b6b45ce-c2a0-40df-b245-9bddf21d62ea')\"\n",
              "              title=\"Convert this dataframe to an interactive table.\"\n",
              "              style=\"display:none;\">\n",
              "        \n",
              "  <svg xmlns=\"http://www.w3.org/2000/svg\" height=\"24px\"viewBox=\"0 0 24 24\"\n",
              "       width=\"24px\">\n",
              "    <path d=\"M0 0h24v24H0V0z\" fill=\"none\"/>\n",
              "    <path d=\"M18.56 5.44l.94 2.06.94-2.06 2.06-.94-2.06-.94-.94-2.06-.94 2.06-2.06.94zm-11 1L8.5 8.5l.94-2.06 2.06-.94-2.06-.94L8.5 2.5l-.94 2.06-2.06.94zm10 10l.94 2.06.94-2.06 2.06-.94-2.06-.94-.94-2.06-.94 2.06-2.06.94z\"/><path d=\"M17.41 7.96l-1.37-1.37c-.4-.4-.92-.59-1.43-.59-.52 0-1.04.2-1.43.59L10.3 9.45l-7.72 7.72c-.78.78-.78 2.05 0 2.83L4 21.41c.39.39.9.59 1.41.59.51 0 1.02-.2 1.41-.59l7.78-7.78 2.81-2.81c.8-.78.8-2.07 0-2.86zM5.41 20L4 18.59l7.72-7.72 1.47 1.35L5.41 20z\"/>\n",
              "  </svg>\n",
              "      </button>\n",
              "      \n",
              "  <style>\n",
              "    .colab-df-container {\n",
              "      display:flex;\n",
              "      flex-wrap:wrap;\n",
              "      gap: 12px;\n",
              "    }\n",
              "\n",
              "    .colab-df-convert {\n",
              "      background-color: #E8F0FE;\n",
              "      border: none;\n",
              "      border-radius: 50%;\n",
              "      cursor: pointer;\n",
              "      display: none;\n",
              "      fill: #1967D2;\n",
              "      height: 32px;\n",
              "      padding: 0 0 0 0;\n",
              "      width: 32px;\n",
              "    }\n",
              "\n",
              "    .colab-df-convert:hover {\n",
              "      background-color: #E2EBFA;\n",
              "      box-shadow: 0px 1px 2px rgba(60, 64, 67, 0.3), 0px 1px 3px 1px rgba(60, 64, 67, 0.15);\n",
              "      fill: #174EA6;\n",
              "    }\n",
              "\n",
              "    [theme=dark] .colab-df-convert {\n",
              "      background-color: #3B4455;\n",
              "      fill: #D2E3FC;\n",
              "    }\n",
              "\n",
              "    [theme=dark] .colab-df-convert:hover {\n",
              "      background-color: #434B5C;\n",
              "      box-shadow: 0px 1px 3px 1px rgba(0, 0, 0, 0.15);\n",
              "      filter: drop-shadow(0px 1px 2px rgba(0, 0, 0, 0.3));\n",
              "      fill: #FFFFFF;\n",
              "    }\n",
              "  </style>\n",
              "\n",
              "      <script>\n",
              "        const buttonEl =\n",
              "          document.querySelector('#df-8b6b45ce-c2a0-40df-b245-9bddf21d62ea button.colab-df-convert');\n",
              "        buttonEl.style.display =\n",
              "          google.colab.kernel.accessAllowed ? 'block' : 'none';\n",
              "\n",
              "        async function convertToInteractive(key) {\n",
              "          const element = document.querySelector('#df-8b6b45ce-c2a0-40df-b245-9bddf21d62ea');\n",
              "          const dataTable =\n",
              "            await google.colab.kernel.invokeFunction('convertToInteractive',\n",
              "                                                     [key], {});\n",
              "          if (!dataTable) return;\n",
              "\n",
              "          const docLinkHtml = 'Like what you see? Visit the ' +\n",
              "            '<a target=\"_blank\" href=https://colab.research.google.com/notebooks/data_table.ipynb>data table notebook</a>'\n",
              "            + ' to learn more about interactive tables.';\n",
              "          element.innerHTML = '';\n",
              "          dataTable['output_type'] = 'display_data';\n",
              "          await google.colab.output.renderOutput(dataTable, element);\n",
              "          const docLink = document.createElement('div');\n",
              "          docLink.innerHTML = docLinkHtml;\n",
              "          element.appendChild(docLink);\n",
              "        }\n",
              "      </script>\n",
              "    </div>\n",
              "  </div>\n",
              "  "
            ]
          },
          "metadata": {},
          "execution_count": 8
        }
      ],
      "source": [
        "predictors.head()"
      ]
    },
    {
      "cell_type": "code",
      "execution_count": 9,
      "metadata": {
        "colab": {
          "base_uri": "https://localhost:8080/"
        },
        "id": "CS__jufjFsSH",
        "outputId": "43f14f8c-add8-45e0-f5ea-2d6cb6899adf"
      },
      "outputs": [
        {
          "output_type": "execute_result",
          "data": {
            "text/plain": [
              "0    79.99\n",
              "1    61.89\n",
              "2    40.27\n",
              "3    41.05\n",
              "4    44.30\n",
              "Name: Strength, dtype: float64"
            ]
          },
          "metadata": {},
          "execution_count": 9
        }
      ],
      "source": [
        "target.head()"
      ]
    },
    {
      "cell_type": "markdown",
      "metadata": {
        "id": "SBLTPBG6FsSI"
      },
      "source": [
        "Finally, the last step is to normalize the data by substracting the mean and dividing by the standard deviation."
      ]
    },
    {
      "cell_type": "code",
      "execution_count": 10,
      "metadata": {
        "colab": {
          "base_uri": "https://localhost:8080/",
          "height": 206
        },
        "id": "xoOHhxD2FsSI",
        "outputId": "da027496-778a-4c0d-dad7-ff24cad28f6b"
      },
      "outputs": [
        {
          "output_type": "execute_result",
          "data": {
            "text/plain": [
              "     Cement  Blast Furnace Slag   Fly Ash     Water  Superplasticizer  \\\n",
              "0  2.476712           -0.856472 -0.846733 -0.916319         -0.620147   \n",
              "1  2.476712           -0.856472 -0.846733 -0.916319         -0.620147   \n",
              "2  0.491187            0.795140 -0.846733  2.174405         -1.038638   \n",
              "3  0.491187            0.795140 -0.846733  2.174405         -1.038638   \n",
              "4 -0.790075            0.678079 -0.846733  0.488555         -1.038638   \n",
              "\n",
              "   Coarse Aggregate  Fine Aggregate       Age  \n",
              "0          0.862735       -1.217079 -0.279597  \n",
              "1          1.055651       -1.217079 -0.279597  \n",
              "2         -0.526262       -2.239829  3.551340  \n",
              "3         -0.526262       -2.239829  5.055221  \n",
              "4          0.070492        0.647569  4.976069  "
            ],
            "text/html": [
              "\n",
              "  <div id=\"df-f71510ee-b267-47cf-ac3e-609d74c38b6f\">\n",
              "    <div class=\"colab-df-container\">\n",
              "      <div>\n",
              "<style scoped>\n",
              "    .dataframe tbody tr th:only-of-type {\n",
              "        vertical-align: middle;\n",
              "    }\n",
              "\n",
              "    .dataframe tbody tr th {\n",
              "        vertical-align: top;\n",
              "    }\n",
              "\n",
              "    .dataframe thead th {\n",
              "        text-align: right;\n",
              "    }\n",
              "</style>\n",
              "<table border=\"1\" class=\"dataframe\">\n",
              "  <thead>\n",
              "    <tr style=\"text-align: right;\">\n",
              "      <th></th>\n",
              "      <th>Cement</th>\n",
              "      <th>Blast Furnace Slag</th>\n",
              "      <th>Fly Ash</th>\n",
              "      <th>Water</th>\n",
              "      <th>Superplasticizer</th>\n",
              "      <th>Coarse Aggregate</th>\n",
              "      <th>Fine Aggregate</th>\n",
              "      <th>Age</th>\n",
              "    </tr>\n",
              "  </thead>\n",
              "  <tbody>\n",
              "    <tr>\n",
              "      <th>0</th>\n",
              "      <td>2.476712</td>\n",
              "      <td>-0.856472</td>\n",
              "      <td>-0.846733</td>\n",
              "      <td>-0.916319</td>\n",
              "      <td>-0.620147</td>\n",
              "      <td>0.862735</td>\n",
              "      <td>-1.217079</td>\n",
              "      <td>-0.279597</td>\n",
              "    </tr>\n",
              "    <tr>\n",
              "      <th>1</th>\n",
              "      <td>2.476712</td>\n",
              "      <td>-0.856472</td>\n",
              "      <td>-0.846733</td>\n",
              "      <td>-0.916319</td>\n",
              "      <td>-0.620147</td>\n",
              "      <td>1.055651</td>\n",
              "      <td>-1.217079</td>\n",
              "      <td>-0.279597</td>\n",
              "    </tr>\n",
              "    <tr>\n",
              "      <th>2</th>\n",
              "      <td>0.491187</td>\n",
              "      <td>0.795140</td>\n",
              "      <td>-0.846733</td>\n",
              "      <td>2.174405</td>\n",
              "      <td>-1.038638</td>\n",
              "      <td>-0.526262</td>\n",
              "      <td>-2.239829</td>\n",
              "      <td>3.551340</td>\n",
              "    </tr>\n",
              "    <tr>\n",
              "      <th>3</th>\n",
              "      <td>0.491187</td>\n",
              "      <td>0.795140</td>\n",
              "      <td>-0.846733</td>\n",
              "      <td>2.174405</td>\n",
              "      <td>-1.038638</td>\n",
              "      <td>-0.526262</td>\n",
              "      <td>-2.239829</td>\n",
              "      <td>5.055221</td>\n",
              "    </tr>\n",
              "    <tr>\n",
              "      <th>4</th>\n",
              "      <td>-0.790075</td>\n",
              "      <td>0.678079</td>\n",
              "      <td>-0.846733</td>\n",
              "      <td>0.488555</td>\n",
              "      <td>-1.038638</td>\n",
              "      <td>0.070492</td>\n",
              "      <td>0.647569</td>\n",
              "      <td>4.976069</td>\n",
              "    </tr>\n",
              "  </tbody>\n",
              "</table>\n",
              "</div>\n",
              "      <button class=\"colab-df-convert\" onclick=\"convertToInteractive('df-f71510ee-b267-47cf-ac3e-609d74c38b6f')\"\n",
              "              title=\"Convert this dataframe to an interactive table.\"\n",
              "              style=\"display:none;\">\n",
              "        \n",
              "  <svg xmlns=\"http://www.w3.org/2000/svg\" height=\"24px\"viewBox=\"0 0 24 24\"\n",
              "       width=\"24px\">\n",
              "    <path d=\"M0 0h24v24H0V0z\" fill=\"none\"/>\n",
              "    <path d=\"M18.56 5.44l.94 2.06.94-2.06 2.06-.94-2.06-.94-.94-2.06-.94 2.06-2.06.94zm-11 1L8.5 8.5l.94-2.06 2.06-.94-2.06-.94L8.5 2.5l-.94 2.06-2.06.94zm10 10l.94 2.06.94-2.06 2.06-.94-2.06-.94-.94-2.06-.94 2.06-2.06.94z\"/><path d=\"M17.41 7.96l-1.37-1.37c-.4-.4-.92-.59-1.43-.59-.52 0-1.04.2-1.43.59L10.3 9.45l-7.72 7.72c-.78.78-.78 2.05 0 2.83L4 21.41c.39.39.9.59 1.41.59.51 0 1.02-.2 1.41-.59l7.78-7.78 2.81-2.81c.8-.78.8-2.07 0-2.86zM5.41 20L4 18.59l7.72-7.72 1.47 1.35L5.41 20z\"/>\n",
              "  </svg>\n",
              "      </button>\n",
              "      \n",
              "  <style>\n",
              "    .colab-df-container {\n",
              "      display:flex;\n",
              "      flex-wrap:wrap;\n",
              "      gap: 12px;\n",
              "    }\n",
              "\n",
              "    .colab-df-convert {\n",
              "      background-color: #E8F0FE;\n",
              "      border: none;\n",
              "      border-radius: 50%;\n",
              "      cursor: pointer;\n",
              "      display: none;\n",
              "      fill: #1967D2;\n",
              "      height: 32px;\n",
              "      padding: 0 0 0 0;\n",
              "      width: 32px;\n",
              "    }\n",
              "\n",
              "    .colab-df-convert:hover {\n",
              "      background-color: #E2EBFA;\n",
              "      box-shadow: 0px 1px 2px rgba(60, 64, 67, 0.3), 0px 1px 3px 1px rgba(60, 64, 67, 0.15);\n",
              "      fill: #174EA6;\n",
              "    }\n",
              "\n",
              "    [theme=dark] .colab-df-convert {\n",
              "      background-color: #3B4455;\n",
              "      fill: #D2E3FC;\n",
              "    }\n",
              "\n",
              "    [theme=dark] .colab-df-convert:hover {\n",
              "      background-color: #434B5C;\n",
              "      box-shadow: 0px 1px 3px 1px rgba(0, 0, 0, 0.15);\n",
              "      filter: drop-shadow(0px 1px 2px rgba(0, 0, 0, 0.3));\n",
              "      fill: #FFFFFF;\n",
              "    }\n",
              "  </style>\n",
              "\n",
              "      <script>\n",
              "        const buttonEl =\n",
              "          document.querySelector('#df-f71510ee-b267-47cf-ac3e-609d74c38b6f button.colab-df-convert');\n",
              "        buttonEl.style.display =\n",
              "          google.colab.kernel.accessAllowed ? 'block' : 'none';\n",
              "\n",
              "        async function convertToInteractive(key) {\n",
              "          const element = document.querySelector('#df-f71510ee-b267-47cf-ac3e-609d74c38b6f');\n",
              "          const dataTable =\n",
              "            await google.colab.kernel.invokeFunction('convertToInteractive',\n",
              "                                                     [key], {});\n",
              "          if (!dataTable) return;\n",
              "\n",
              "          const docLinkHtml = 'Like what you see? Visit the ' +\n",
              "            '<a target=\"_blank\" href=https://colab.research.google.com/notebooks/data_table.ipynb>data table notebook</a>'\n",
              "            + ' to learn more about interactive tables.';\n",
              "          element.innerHTML = '';\n",
              "          dataTable['output_type'] = 'display_data';\n",
              "          await google.colab.output.renderOutput(dataTable, element);\n",
              "          const docLink = document.createElement('div');\n",
              "          docLink.innerHTML = docLinkHtml;\n",
              "          element.appendChild(docLink);\n",
              "        }\n",
              "      </script>\n",
              "    </div>\n",
              "  </div>\n",
              "  "
            ]
          },
          "metadata": {},
          "execution_count": 10
        }
      ],
      "source": [
        "predictors_norm = (predictors - predictors.mean()) / predictors.std()\n",
        "predictors_norm.head()"
      ]
    },
    {
      "cell_type": "code",
      "execution_count": 11,
      "metadata": {
        "colab": {
          "base_uri": "https://localhost:8080/"
        },
        "id": "uzAXvWD5FsSJ",
        "outputId": "2401117c-abaa-4610-d562-60c466c553a0"
      },
      "outputs": [
        {
          "output_type": "execute_result",
          "data": {
            "text/plain": [
              "8"
            ]
          },
          "metadata": {},
          "execution_count": 11
        }
      ],
      "source": [
        "n_cols = predictors_norm.shape[1] # number of predictors\n",
        "n_cols"
      ]
    },
    {
      "cell_type": "markdown",
      "metadata": {
        "id": "6eDAE3HPFsSJ"
      },
      "source": [
        "<a id=\"item1\"></a>"
      ]
    },
    {
      "cell_type": "markdown",
      "metadata": {
        "id": "BG0tE25mFsSJ"
      },
      "source": [
        "<a id=\"item1\"></a>"
      ]
    },
    {
      "cell_type": "markdown",
      "metadata": {
        "id": "yfjARMo5FsSK"
      },
      "source": [
        "## Import Keras"
      ]
    },
    {
      "cell_type": "markdown",
      "metadata": {
        "id": "uhtIjuS_FsSK"
      },
      "source": [
        "#### Let's go ahead and import the Keras library"
      ]
    },
    {
      "cell_type": "code",
      "execution_count": 12,
      "metadata": {
        "id": "7aegJGR3FsSK"
      },
      "outputs": [],
      "source": [
        "import keras"
      ]
    },
    {
      "cell_type": "markdown",
      "metadata": {
        "id": "C1-ld3sPFsSK"
      },
      "source": [
        "As you can see, the TensorFlow backend was used to install the Keras library."
      ]
    },
    {
      "cell_type": "markdown",
      "metadata": {
        "id": "ABMc0dlkFsSL"
      },
      "source": [
        "Let's import the rest of the packages from the Keras library that we will need to build our regressoin model."
      ]
    },
    {
      "cell_type": "code",
      "execution_count": 13,
      "metadata": {
        "id": "T7rJilW3FsSL"
      },
      "outputs": [],
      "source": [
        "from keras.models import Sequential\n",
        "from keras.layers import Dense"
      ]
    },
    {
      "cell_type": "code",
      "execution_count": 14,
      "metadata": {
        "id": "UbuFUD1HFsSL"
      },
      "outputs": [],
      "source": [
        "# define regression model\n",
        "def regression_model():\n",
        "    # create model\n",
        "    model = Sequential()\n",
        "    model.add(Dense(10, activation='relu', input_shape=(n_cols,)))\n",
        "    model.add(Dense(1))\n",
        "    \n",
        "    # compile model\n",
        "    model.compile(optimizer='adam', loss='mean_squared_error')\n",
        "    return model"
      ]
    },
    {
      "cell_type": "markdown",
      "metadata": {
        "id": "JXxkgHONFsSM"
      },
      "source": [
        "The above function creates a model that has one hidden layer with 10 neurons and a ReLU activation function. It uses the adam optimizer and the mean squared error as the loss function."
      ]
    },
    {
      "cell_type": "markdown",
      "metadata": {
        "id": "skOt4gbCFsSM"
      },
      "source": [
        "Let's import scikit-learn in order to randomly split the data into a training and test sets"
      ]
    },
    {
      "cell_type": "code",
      "execution_count": 15,
      "metadata": {
        "id": "6CqL95CuFsSM"
      },
      "outputs": [],
      "source": [
        "from sklearn.model_selection import train_test_split"
      ]
    },
    {
      "cell_type": "markdown",
      "metadata": {
        "id": "ODjFMc-VFsSM"
      },
      "source": [
        "Splitting the data into a training and test sets by holding 30% of the data for testing"
      ]
    },
    {
      "cell_type": "code",
      "execution_count": 16,
      "metadata": {
        "id": "aRS7o7EUFsSM"
      },
      "outputs": [],
      "source": [
        "X_train, X_test, y_train, y_test = train_test_split(predictors_norm, target, test_size=0.3, random_state=42)"
      ]
    },
    {
      "cell_type": "markdown",
      "metadata": {
        "id": "IAwFupnKFsSN"
      },
      "source": [
        "## Train and Test the Network"
      ]
    },
    {
      "cell_type": "markdown",
      "metadata": {
        "id": "gN2Q-KEDFsSN"
      },
      "source": [
        "Let's call the function now to create our model."
      ]
    },
    {
      "cell_type": "code",
      "execution_count": 17,
      "metadata": {
        "id": "-W4F6eUQFsSN"
      },
      "outputs": [],
      "source": [
        "# build the model\n",
        "model = regression_model()"
      ]
    },
    {
      "cell_type": "markdown",
      "metadata": {
        "id": "FJIDqtwTFsSN"
      },
      "source": [
        "Next, we will train the model for 50 epochs.\n"
      ]
    },
    {
      "cell_type": "code",
      "execution_count": 18,
      "metadata": {
        "colab": {
          "base_uri": "https://localhost:8080/"
        },
        "id": "_TMo-uF7FsSN",
        "outputId": "869a0fec-0393-4a2d-f0a5-868bd66d81ff"
      },
      "outputs": [
        {
          "output_type": "stream",
          "name": "stdout",
          "text": [
            "Epoch 1/50\n",
            "23/23 - 1s - loss: 1628.2112 - 635ms/epoch - 28ms/step\n",
            "Epoch 2/50\n",
            "23/23 - 0s - loss: 1613.5366 - 34ms/epoch - 1ms/step\n",
            "Epoch 3/50\n",
            "23/23 - 0s - loss: 1599.3792 - 44ms/epoch - 2ms/step\n",
            "Epoch 4/50\n",
            "23/23 - 0s - loss: 1585.9052 - 34ms/epoch - 1ms/step\n",
            "Epoch 5/50\n",
            "23/23 - 0s - loss: 1572.5564 - 38ms/epoch - 2ms/step\n",
            "Epoch 6/50\n",
            "23/23 - 0s - loss: 1559.4362 - 39ms/epoch - 2ms/step\n",
            "Epoch 7/50\n",
            "23/23 - 0s - loss: 1546.1218 - 36ms/epoch - 2ms/step\n",
            "Epoch 8/50\n",
            "23/23 - 0s - loss: 1532.7148 - 34ms/epoch - 1ms/step\n",
            "Epoch 9/50\n",
            "23/23 - 0s - loss: 1519.0310 - 33ms/epoch - 1ms/step\n",
            "Epoch 10/50\n",
            "23/23 - 0s - loss: 1505.0953 - 34ms/epoch - 1ms/step\n",
            "Epoch 11/50\n",
            "23/23 - 0s - loss: 1490.7830 - 33ms/epoch - 1ms/step\n",
            "Epoch 12/50\n",
            "23/23 - 0s - loss: 1475.8817 - 36ms/epoch - 2ms/step\n",
            "Epoch 13/50\n",
            "23/23 - 0s - loss: 1460.5953 - 31ms/epoch - 1ms/step\n",
            "Epoch 14/50\n",
            "23/23 - 0s - loss: 1444.9275 - 33ms/epoch - 1ms/step\n",
            "Epoch 15/50\n",
            "23/23 - 0s - loss: 1428.2476 - 34ms/epoch - 1ms/step\n",
            "Epoch 16/50\n",
            "23/23 - 0s - loss: 1411.6149 - 37ms/epoch - 2ms/step\n",
            "Epoch 17/50\n",
            "23/23 - 0s - loss: 1393.6927 - 35ms/epoch - 2ms/step\n",
            "Epoch 18/50\n",
            "23/23 - 0s - loss: 1375.5886 - 33ms/epoch - 1ms/step\n",
            "Epoch 19/50\n",
            "23/23 - 0s - loss: 1356.2905 - 33ms/epoch - 1ms/step\n",
            "Epoch 20/50\n",
            "23/23 - 0s - loss: 1336.2020 - 37ms/epoch - 2ms/step\n",
            "Epoch 21/50\n",
            "23/23 - 0s - loss: 1315.6243 - 34ms/epoch - 1ms/step\n",
            "Epoch 22/50\n",
            "23/23 - 0s - loss: 1293.7594 - 36ms/epoch - 2ms/step\n",
            "Epoch 23/50\n",
            "23/23 - 0s - loss: 1271.5038 - 36ms/epoch - 2ms/step\n",
            "Epoch 24/50\n",
            "23/23 - 0s - loss: 1248.0803 - 36ms/epoch - 2ms/step\n",
            "Epoch 25/50\n",
            "23/23 - 0s - loss: 1224.0569 - 35ms/epoch - 2ms/step\n",
            "Epoch 26/50\n",
            "23/23 - 0s - loss: 1199.5753 - 36ms/epoch - 2ms/step\n",
            "Epoch 27/50\n",
            "23/23 - 0s - loss: 1173.5062 - 37ms/epoch - 2ms/step\n",
            "Epoch 28/50\n",
            "23/23 - 0s - loss: 1147.0510 - 36ms/epoch - 2ms/step\n",
            "Epoch 29/50\n",
            "23/23 - 0s - loss: 1119.7517 - 46ms/epoch - 2ms/step\n",
            "Epoch 30/50\n",
            "23/23 - 0s - loss: 1091.8883 - 35ms/epoch - 2ms/step\n",
            "Epoch 31/50\n",
            "23/23 - 0s - loss: 1062.6732 - 39ms/epoch - 2ms/step\n",
            "Epoch 32/50\n",
            "23/23 - 0s - loss: 1033.5325 - 34ms/epoch - 1ms/step\n",
            "Epoch 33/50\n",
            "23/23 - 0s - loss: 1002.8723 - 35ms/epoch - 2ms/step\n",
            "Epoch 34/50\n",
            "23/23 - 0s - loss: 972.0808 - 39ms/epoch - 2ms/step\n",
            "Epoch 35/50\n",
            "23/23 - 0s - loss: 940.9060 - 40ms/epoch - 2ms/step\n",
            "Epoch 36/50\n",
            "23/23 - 0s - loss: 909.2358 - 38ms/epoch - 2ms/step\n",
            "Epoch 37/50\n",
            "23/23 - 0s - loss: 877.2849 - 46ms/epoch - 2ms/step\n",
            "Epoch 38/50\n",
            "23/23 - 0s - loss: 845.2335 - 35ms/epoch - 2ms/step\n",
            "Epoch 39/50\n",
            "23/23 - 0s - loss: 813.7933 - 43ms/epoch - 2ms/step\n",
            "Epoch 40/50\n",
            "23/23 - 0s - loss: 782.5682 - 38ms/epoch - 2ms/step\n",
            "Epoch 41/50\n",
            "23/23 - 0s - loss: 751.1922 - 39ms/epoch - 2ms/step\n",
            "Epoch 42/50\n",
            "23/23 - 0s - loss: 720.5724 - 36ms/epoch - 2ms/step\n",
            "Epoch 43/50\n",
            "23/23 - 0s - loss: 690.5323 - 33ms/epoch - 1ms/step\n",
            "Epoch 44/50\n",
            "23/23 - 0s - loss: 661.1353 - 36ms/epoch - 2ms/step\n",
            "Epoch 45/50\n",
            "23/23 - 0s - loss: 632.5055 - 37ms/epoch - 2ms/step\n",
            "Epoch 46/50\n",
            "23/23 - 0s - loss: 604.4886 - 47ms/epoch - 2ms/step\n",
            "Epoch 47/50\n",
            "23/23 - 0s - loss: 577.7844 - 36ms/epoch - 2ms/step\n",
            "Epoch 48/50\n",
            "23/23 - 0s - loss: 552.5163 - 37ms/epoch - 2ms/step\n",
            "Epoch 49/50\n",
            "23/23 - 0s - loss: 527.8799 - 40ms/epoch - 2ms/step\n",
            "Epoch 50/50\n",
            "23/23 - 0s - loss: 504.2672 - 38ms/epoch - 2ms/step\n"
          ]
        },
        {
          "output_type": "execute_result",
          "data": {
            "text/plain": [
              "<keras.callbacks.History at 0x7f96792eb7f0>"
            ]
          },
          "metadata": {},
          "execution_count": 18
        }
      ],
      "source": [
        "# fit the model\n",
        "epochs = 50\n",
        "model.fit(X_train, y_train, epochs=epochs, verbose=2)"
      ]
    },
    {
      "cell_type": "markdown",
      "metadata": {
        "id": "6O60rArnFsSO"
      },
      "source": [
        "Next we need to evaluate the model on the test data."
      ]
    },
    {
      "cell_type": "code",
      "execution_count": 19,
      "metadata": {
        "colab": {
          "base_uri": "https://localhost:8080/"
        },
        "id": "Aw6v_pqnFsSO",
        "outputId": "b8911c24-1b42-4bac-c7bc-f17a774c5c8a"
      },
      "outputs": [
        {
          "output_type": "stream",
          "name": "stdout",
          "text": [
            "10/10 [==============================] - 0s 2ms/step - loss: 459.1322\n",
            "10/10 [==============================] - 0s 2ms/step\n"
          ]
        },
        {
          "output_type": "execute_result",
          "data": {
            "text/plain": [
              "459.1322326660156"
            ]
          },
          "metadata": {},
          "execution_count": 19
        }
      ],
      "source": [
        "loss_val = model.evaluate(X_test, y_test)\n",
        "y_pred = model.predict(X_test)\n",
        "loss_val"
      ]
    },
    {
      "cell_type": "markdown",
      "metadata": {
        "id": "lssV7571FsSO"
      },
      "source": [
        "Now we need to compute the mean squared error between the predicted concrete strength and the actual concrete strength."
      ]
    },
    {
      "cell_type": "markdown",
      "metadata": {
        "id": "rCBxQsakFsSP"
      },
      "source": [
        "Let's import the mean_squared_error function from Scikit-learn."
      ]
    },
    {
      "cell_type": "code",
      "execution_count": 20,
      "metadata": {
        "id": "03uHN_tGFsSP"
      },
      "outputs": [],
      "source": [
        "from sklearn.metrics import mean_squared_error"
      ]
    },
    {
      "cell_type": "code",
      "execution_count": 21,
      "metadata": {
        "colab": {
          "base_uri": "https://localhost:8080/"
        },
        "id": "mpZ_uh6ZFsSP",
        "outputId": "6775c53d-2306-47c2-ce66-462ea14f8fe3"
      },
      "outputs": [
        {
          "output_type": "stream",
          "name": "stdout",
          "text": [
            "459.1322364729495 0.0\n"
          ]
        }
      ],
      "source": [
        "mean_square_error = mean_squared_error(y_test, y_pred)\n",
        "mean = np.mean(mean_square_error)\n",
        "standard_deviation = np.std(mean_square_error)\n",
        "print(mean, standard_deviation)"
      ]
    },
    {
      "cell_type": "markdown",
      "metadata": {
        "id": "wkyct27hFsSP"
      },
      "source": [
        "Create a list of 50 mean squared errors and report mean and the standard deviation of the mean squared errors."
      ]
    },
    {
      "cell_type": "code",
      "execution_count": 22,
      "metadata": {
        "colab": {
          "base_uri": "https://localhost:8080/"
        },
        "id": "Jw_xOqNlFsSP",
        "outputId": "de7cf693-dcd1-43bf-97a3-80846a89bc8b"
      },
      "outputs": [
        {
          "output_type": "stream",
          "name": "stdout",
          "text": [
            "MSE 1: 158.28890991210938\n",
            "10/10 [==============================] - 0s 2ms/step\n",
            "MSE 2: 157.19305419921875\n",
            "10/10 [==============================] - 0s 2ms/step\n",
            "MSE 3: 95.77328491210938\n",
            "10/10 [==============================] - 0s 2ms/step\n",
            "MSE 4: 79.3099136352539\n",
            "10/10 [==============================] - 0s 3ms/step\n",
            "MSE 5: 67.99717712402344\n",
            "10/10 [==============================] - 0s 2ms/step\n",
            "MSE 6: 60.77268981933594\n",
            "10/10 [==============================] - 0s 2ms/step\n",
            "MSE 7: 58.033817291259766\n",
            "10/10 [==============================] - 0s 2ms/step\n",
            "MSE 8: 42.141815185546875\n",
            "10/10 [==============================] - 0s 2ms/step\n",
            "MSE 9: 42.98407745361328\n",
            "10/10 [==============================] - 0s 2ms/step\n",
            "MSE 10: 42.38621139526367\n",
            "10/10 [==============================] - 0s 2ms/step\n",
            "MSE 11: 37.600379943847656\n",
            "10/10 [==============================] - 0s 2ms/step\n",
            "MSE 12: 36.77020263671875\n",
            "10/10 [==============================] - 0s 2ms/step\n",
            "MSE 13: 42.48968505859375\n",
            "10/10 [==============================] - 0s 2ms/step\n",
            "MSE 14: 44.71247482299805\n",
            "10/10 [==============================] - 0s 2ms/step\n",
            "MSE 15: 36.21705627441406\n",
            "10/10 [==============================] - 0s 2ms/step\n",
            "MSE 16: 32.959754943847656\n",
            "10/10 [==============================] - 0s 2ms/step\n",
            "MSE 17: 35.5899658203125\n",
            "10/10 [==============================] - 0s 2ms/step\n",
            "MSE 18: 35.07710647583008\n",
            "10/10 [==============================] - 0s 2ms/step\n",
            "MSE 19: 34.20756149291992\n",
            "10/10 [==============================] - 0s 3ms/step\n",
            "MSE 20: 34.45757293701172\n",
            "10/10 [==============================] - 0s 2ms/step\n",
            "MSE 21: 32.97455596923828\n",
            "10/10 [==============================] - 0s 2ms/step\n",
            "MSE 22: 35.6314582824707\n",
            "10/10 [==============================] - 0s 2ms/step\n",
            "MSE 23: 29.41924285888672\n",
            "10/10 [==============================] - 0s 2ms/step\n",
            "MSE 24: 31.216411590576172\n",
            "10/10 [==============================] - 0s 2ms/step\n",
            "MSE 25: 34.58127212524414\n",
            "10/10 [==============================] - 0s 2ms/step\n",
            "MSE 26: 33.842247009277344\n",
            "10/10 [==============================] - 0s 2ms/step\n",
            "MSE 27: 31.1647891998291\n",
            "10/10 [==============================] - 0s 2ms/step\n",
            "MSE 28: 29.067758560180664\n",
            "10/10 [==============================] - 0s 2ms/step\n",
            "MSE 29: 35.3009147644043\n",
            "10/10 [==============================] - 0s 2ms/step\n",
            "MSE 30: 31.95105743408203\n",
            "10/10 [==============================] - 0s 2ms/step\n",
            "MSE 31: 30.352861404418945\n",
            "10/10 [==============================] - 0s 2ms/step\n",
            "MSE 32: 29.254955291748047\n",
            "10/10 [==============================] - 0s 2ms/step\n",
            "MSE 33: 28.175933837890625\n",
            "10/10 [==============================] - 0s 2ms/step\n",
            "MSE 34: 32.014984130859375\n",
            "10/10 [==============================] - 0s 2ms/step\n",
            "MSE 35: 32.91626739501953\n",
            "10/10 [==============================] - 0s 3ms/step\n",
            "MSE 36: 38.06477737426758\n",
            "10/10 [==============================] - 0s 2ms/step\n",
            "MSE 37: 28.63966178894043\n",
            "10/10 [==============================] - 0s 2ms/step\n",
            "MSE 38: 33.7010498046875\n",
            "10/10 [==============================] - 0s 2ms/step\n",
            "MSE 39: 31.801855087280273\n",
            "10/10 [==============================] - 0s 2ms/step\n",
            "MSE 40: 27.52696418762207\n",
            "10/10 [==============================] - 0s 2ms/step\n",
            "MSE 41: 33.90172576904297\n",
            "10/10 [==============================] - 0s 2ms/step\n",
            "MSE 42: 27.7562198638916\n",
            "10/10 [==============================] - 0s 2ms/step\n",
            "MSE 43: 31.735225677490234\n",
            "10/10 [==============================] - 0s 2ms/step\n",
            "MSE 44: 36.775474548339844\n",
            "10/10 [==============================] - 0s 3ms/step\n",
            "MSE 45: 32.86191177368164\n",
            "10/10 [==============================] - 0s 2ms/step\n",
            "MSE 46: 30.79557991027832\n",
            "10/10 [==============================] - 0s 2ms/step\n",
            "MSE 47: 31.09620475769043\n",
            "10/10 [==============================] - 0s 4ms/step\n",
            "MSE 48: 33.28058624267578\n",
            "10/10 [==============================] - 0s 2ms/step\n",
            "MSE 49: 32.56893539428711\n",
            "10/10 [==============================] - 0s 2ms/step\n",
            "MSE 50: 32.781166076660156\n",
            "10/10 [==============================] - 0s 2ms/step\n",
            "\n",
            "\n",
            "Below is the mean and standard deviation of 50 mean squared errors with normalized data. Total number of epochs for each training is: 50\n",
            "\n",
            "Mean: 42.72229522700533\n",
            "Standard Deviation: 26.791074017973155\n"
          ]
        }
      ],
      "source": [
        "total_mean_squared_errors = 50\n",
        "epochs = 50\n",
        "mean_squared_errors = []\n",
        "for i in range(0, total_mean_squared_errors):\n",
        "    X_train, X_test, y_train, y_test = train_test_split(predictors_norm, target, test_size=0.3, random_state=i)\n",
        "    model.fit(X_train, y_train, epochs=epochs, verbose=0)\n",
        "    MSE = model.evaluate(X_test, y_test, verbose=0)\n",
        "    print(\"MSE \"+str(i+1)+\": \"+str(MSE))\n",
        "    y_pred = model.predict(X_test)\n",
        "    mean_square_error = mean_squared_error(y_test, y_pred)\n",
        "    mean_squared_errors.append(mean_square_error)\n",
        "\n",
        "mean_squared_errors = np.array(mean_squared_errors)\n",
        "mean = np.mean(mean_squared_errors)\n",
        "standard_deviation = np.std(mean_squared_errors)\n",
        "\n",
        "print('\\n')\n",
        "print(\"Below is the mean and standard deviation of \" +str(total_mean_squared_errors) + \" mean squared errors with normalized data. Total number of epochs for each training is: \" +str(epochs) + \"\\n\")\n",
        "print(\"Mean: \"+str(mean))\n",
        "print(\"Standard Deviation: \"+str(standard_deviation))"
      ]
    },
    {
      "cell_type": "code",
      "execution_count": null,
      "metadata": {
        "id": "67seE9L4FsSQ"
      },
      "outputs": [],
      "source": []
    }
  ],
  "metadata": {
    "kernelspec": {
      "display_name": "Python 3",
      "language": "python",
      "name": "python3"
    },
    "language_info": {
      "codemirror_mode": {
        "name": "ipython",
        "version": 3
      },
      "file_extension": ".py",
      "mimetype": "text/x-python",
      "name": "python",
      "nbconvert_exporter": "python",
      "pygments_lexer": "ipython3",
      "version": "3.6.9"
    },
    "colab": {
      "provenance": []
    }
  },
  "nbformat": 4,
  "nbformat_minor": 0
}