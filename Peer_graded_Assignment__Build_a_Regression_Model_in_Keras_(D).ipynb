{
  "cells": [
    {
      "cell_type": "markdown",
      "metadata": {
        "id": "JqxzlzDDdOg0"
      },
      "source": [
        "## Download and Clean Dataset"
      ]
    },
    {
      "cell_type": "markdown",
      "metadata": {
        "id": "klJpgnGrdOg7"
      },
      "source": [
        "Let's start by importing the <em>pandas</em> and the Numpy libraries."
      ]
    },
    {
      "cell_type": "code",
      "execution_count": 1,
      "metadata": {
        "id": "8FV7NZqSdOg8"
      },
      "outputs": [],
      "source": [
        "import pandas as pd\n",
        "import numpy as np"
      ]
    },
    {
      "cell_type": "markdown",
      "metadata": {
        "id": "wVGIw04ldOg9"
      },
      "source": [
        "We will be using the dataset provided in the assignment\n",
        "\n",
        "<strong>The dataset is about the compressive strength of different samples of concrete based on the volumes of the different ingredients that were used to make them. Ingredients include:</strong>\n",
        "\n",
        "<strong>1. Cement</strong>\n",
        "\n",
        "<strong>2. Blast Furnace Slag</strong>\n",
        "\n",
        "<strong>3. Fly Ash</strong>\n",
        "\n",
        "<strong>4. Water</strong>\n",
        "\n",
        "<strong>5. Superplasticizer</strong>\n",
        "\n",
        "<strong>6. Coarse Aggregate</strong>\n",
        "\n",
        "<strong>7. Fine Aggregate</strong>"
      ]
    },
    {
      "cell_type": "markdown",
      "metadata": {
        "id": "AA_FPx8VdOg-"
      },
      "source": [
        "Let's read the dataset into a <em>pandas</em> dataframe."
      ]
    },
    {
      "cell_type": "code",
      "execution_count": 2,
      "metadata": {
        "colab": {
          "base_uri": "https://localhost:8080/",
          "height": 206
        },
        "id": "QK0ZOSaEdOg_",
        "outputId": "4c9ade3d-a17a-46d8-8d56-b4bfe19a311a"
      },
      "outputs": [
        {
          "output_type": "execute_result",
          "data": {
            "text/plain": [
              "   Cement  Blast Furnace Slag  Fly Ash  Water  Superplasticizer  \\\n",
              "0   540.0                 0.0      0.0  162.0               2.5   \n",
              "1   540.0                 0.0      0.0  162.0               2.5   \n",
              "2   332.5               142.5      0.0  228.0               0.0   \n",
              "3   332.5               142.5      0.0  228.0               0.0   \n",
              "4   198.6               132.4      0.0  192.0               0.0   \n",
              "\n",
              "   Coarse Aggregate  Fine Aggregate  Age  Strength  \n",
              "0            1040.0           676.0   28     79.99  \n",
              "1            1055.0           676.0   28     61.89  \n",
              "2             932.0           594.0  270     40.27  \n",
              "3             932.0           594.0  365     41.05  \n",
              "4             978.4           825.5  360     44.30  "
            ],
            "text/html": [
              "\n",
              "  <div id=\"df-327923c6-14c9-4a1c-912b-da3b6878260d\">\n",
              "    <div class=\"colab-df-container\">\n",
              "      <div>\n",
              "<style scoped>\n",
              "    .dataframe tbody tr th:only-of-type {\n",
              "        vertical-align: middle;\n",
              "    }\n",
              "\n",
              "    .dataframe tbody tr th {\n",
              "        vertical-align: top;\n",
              "    }\n",
              "\n",
              "    .dataframe thead th {\n",
              "        text-align: right;\n",
              "    }\n",
              "</style>\n",
              "<table border=\"1\" class=\"dataframe\">\n",
              "  <thead>\n",
              "    <tr style=\"text-align: right;\">\n",
              "      <th></th>\n",
              "      <th>Cement</th>\n",
              "      <th>Blast Furnace Slag</th>\n",
              "      <th>Fly Ash</th>\n",
              "      <th>Water</th>\n",
              "      <th>Superplasticizer</th>\n",
              "      <th>Coarse Aggregate</th>\n",
              "      <th>Fine Aggregate</th>\n",
              "      <th>Age</th>\n",
              "      <th>Strength</th>\n",
              "    </tr>\n",
              "  </thead>\n",
              "  <tbody>\n",
              "    <tr>\n",
              "      <th>0</th>\n",
              "      <td>540.0</td>\n",
              "      <td>0.0</td>\n",
              "      <td>0.0</td>\n",
              "      <td>162.0</td>\n",
              "      <td>2.5</td>\n",
              "      <td>1040.0</td>\n",
              "      <td>676.0</td>\n",
              "      <td>28</td>\n",
              "      <td>79.99</td>\n",
              "    </tr>\n",
              "    <tr>\n",
              "      <th>1</th>\n",
              "      <td>540.0</td>\n",
              "      <td>0.0</td>\n",
              "      <td>0.0</td>\n",
              "      <td>162.0</td>\n",
              "      <td>2.5</td>\n",
              "      <td>1055.0</td>\n",
              "      <td>676.0</td>\n",
              "      <td>28</td>\n",
              "      <td>61.89</td>\n",
              "    </tr>\n",
              "    <tr>\n",
              "      <th>2</th>\n",
              "      <td>332.5</td>\n",
              "      <td>142.5</td>\n",
              "      <td>0.0</td>\n",
              "      <td>228.0</td>\n",
              "      <td>0.0</td>\n",
              "      <td>932.0</td>\n",
              "      <td>594.0</td>\n",
              "      <td>270</td>\n",
              "      <td>40.27</td>\n",
              "    </tr>\n",
              "    <tr>\n",
              "      <th>3</th>\n",
              "      <td>332.5</td>\n",
              "      <td>142.5</td>\n",
              "      <td>0.0</td>\n",
              "      <td>228.0</td>\n",
              "      <td>0.0</td>\n",
              "      <td>932.0</td>\n",
              "      <td>594.0</td>\n",
              "      <td>365</td>\n",
              "      <td>41.05</td>\n",
              "    </tr>\n",
              "    <tr>\n",
              "      <th>4</th>\n",
              "      <td>198.6</td>\n",
              "      <td>132.4</td>\n",
              "      <td>0.0</td>\n",
              "      <td>192.0</td>\n",
              "      <td>0.0</td>\n",
              "      <td>978.4</td>\n",
              "      <td>825.5</td>\n",
              "      <td>360</td>\n",
              "      <td>44.30</td>\n",
              "    </tr>\n",
              "  </tbody>\n",
              "</table>\n",
              "</div>\n",
              "      <button class=\"colab-df-convert\" onclick=\"convertToInteractive('df-327923c6-14c9-4a1c-912b-da3b6878260d')\"\n",
              "              title=\"Convert this dataframe to an interactive table.\"\n",
              "              style=\"display:none;\">\n",
              "        \n",
              "  <svg xmlns=\"http://www.w3.org/2000/svg\" height=\"24px\"viewBox=\"0 0 24 24\"\n",
              "       width=\"24px\">\n",
              "    <path d=\"M0 0h24v24H0V0z\" fill=\"none\"/>\n",
              "    <path d=\"M18.56 5.44l.94 2.06.94-2.06 2.06-.94-2.06-.94-.94-2.06-.94 2.06-2.06.94zm-11 1L8.5 8.5l.94-2.06 2.06-.94-2.06-.94L8.5 2.5l-.94 2.06-2.06.94zm10 10l.94 2.06.94-2.06 2.06-.94-2.06-.94-.94-2.06-.94 2.06-2.06.94z\"/><path d=\"M17.41 7.96l-1.37-1.37c-.4-.4-.92-.59-1.43-.59-.52 0-1.04.2-1.43.59L10.3 9.45l-7.72 7.72c-.78.78-.78 2.05 0 2.83L4 21.41c.39.39.9.59 1.41.59.51 0 1.02-.2 1.41-.59l7.78-7.78 2.81-2.81c.8-.78.8-2.07 0-2.86zM5.41 20L4 18.59l7.72-7.72 1.47 1.35L5.41 20z\"/>\n",
              "  </svg>\n",
              "      </button>\n",
              "      \n",
              "  <style>\n",
              "    .colab-df-container {\n",
              "      display:flex;\n",
              "      flex-wrap:wrap;\n",
              "      gap: 12px;\n",
              "    }\n",
              "\n",
              "    .colab-df-convert {\n",
              "      background-color: #E8F0FE;\n",
              "      border: none;\n",
              "      border-radius: 50%;\n",
              "      cursor: pointer;\n",
              "      display: none;\n",
              "      fill: #1967D2;\n",
              "      height: 32px;\n",
              "      padding: 0 0 0 0;\n",
              "      width: 32px;\n",
              "    }\n",
              "\n",
              "    .colab-df-convert:hover {\n",
              "      background-color: #E2EBFA;\n",
              "      box-shadow: 0px 1px 2px rgba(60, 64, 67, 0.3), 0px 1px 3px 1px rgba(60, 64, 67, 0.15);\n",
              "      fill: #174EA6;\n",
              "    }\n",
              "\n",
              "    [theme=dark] .colab-df-convert {\n",
              "      background-color: #3B4455;\n",
              "      fill: #D2E3FC;\n",
              "    }\n",
              "\n",
              "    [theme=dark] .colab-df-convert:hover {\n",
              "      background-color: #434B5C;\n",
              "      box-shadow: 0px 1px 3px 1px rgba(0, 0, 0, 0.15);\n",
              "      filter: drop-shadow(0px 1px 2px rgba(0, 0, 0, 0.3));\n",
              "      fill: #FFFFFF;\n",
              "    }\n",
              "  </style>\n",
              "\n",
              "      <script>\n",
              "        const buttonEl =\n",
              "          document.querySelector('#df-327923c6-14c9-4a1c-912b-da3b6878260d button.colab-df-convert');\n",
              "        buttonEl.style.display =\n",
              "          google.colab.kernel.accessAllowed ? 'block' : 'none';\n",
              "\n",
              "        async function convertToInteractive(key) {\n",
              "          const element = document.querySelector('#df-327923c6-14c9-4a1c-912b-da3b6878260d');\n",
              "          const dataTable =\n",
              "            await google.colab.kernel.invokeFunction('convertToInteractive',\n",
              "                                                     [key], {});\n",
              "          if (!dataTable) return;\n",
              "\n",
              "          const docLinkHtml = 'Like what you see? Visit the ' +\n",
              "            '<a target=\"_blank\" href=https://colab.research.google.com/notebooks/data_table.ipynb>data table notebook</a>'\n",
              "            + ' to learn more about interactive tables.';\n",
              "          element.innerHTML = '';\n",
              "          dataTable['output_type'] = 'display_data';\n",
              "          await google.colab.output.renderOutput(dataTable, element);\n",
              "          const docLink = document.createElement('div');\n",
              "          docLink.innerHTML = docLinkHtml;\n",
              "          element.appendChild(docLink);\n",
              "        }\n",
              "      </script>\n",
              "    </div>\n",
              "  </div>\n",
              "  "
            ]
          },
          "metadata": {},
          "execution_count": 2
        }
      ],
      "source": [
        "concrete_data = pd.read_csv('https://s3-api.us-geo.objectstorage.softlayer.net/cf-courses-data/CognitiveClass/DL0101EN/labs/data/concrete_data.csv')\n",
        "concrete_data.head()"
      ]
    },
    {
      "cell_type": "markdown",
      "metadata": {
        "id": "UtwfkvcodOhA"
      },
      "source": [
        "So the first concrete sample has 540 cubic meter of cement, 0 cubic meter of blast furnace slag, 0 cubic meter of fly ash, 162 cubic meter of water, 2.5 cubic meter of superplaticizer, 1040 cubic meter of coarse aggregate, 676 cubic meter of fine aggregate. Such a concrete mix which is 28 days old, has a compressive strength of 79.99 MPa. "
      ]
    },
    {
      "cell_type": "markdown",
      "metadata": {
        "id": "o7AXUZl-dOhB"
      },
      "source": [
        "#### Let's check how many data points we have."
      ]
    },
    {
      "cell_type": "code",
      "execution_count": 3,
      "metadata": {
        "colab": {
          "base_uri": "https://localhost:8080/"
        },
        "id": "QNPsJlp0dOhC",
        "outputId": "503ca4dd-441b-4e66-ad06-729230819943"
      },
      "outputs": [
        {
          "output_type": "execute_result",
          "data": {
            "text/plain": [
              "(1030, 9)"
            ]
          },
          "metadata": {},
          "execution_count": 3
        }
      ],
      "source": [
        "concrete_data.shape"
      ]
    },
    {
      "cell_type": "markdown",
      "metadata": {
        "id": "GeyiWWBLdOhC"
      },
      "source": [
        "So, there are approximately 1000 samples to train our model on. Because of the few samples, we have to be careful not to overfit the training data."
      ]
    },
    {
      "cell_type": "markdown",
      "metadata": {
        "id": "ejjh1Z2IdOhD"
      },
      "source": [
        "Let's check the dataset for any missing values."
      ]
    },
    {
      "cell_type": "code",
      "execution_count": 4,
      "metadata": {
        "colab": {
          "base_uri": "https://localhost:8080/",
          "height": 300
        },
        "id": "yPz4QQ9odOhD",
        "outputId": "4bbc904a-3b8f-4483-e78c-46e79165463d"
      },
      "outputs": [
        {
          "output_type": "execute_result",
          "data": {
            "text/plain": [
              "            Cement  Blast Furnace Slag      Fly Ash        Water  \\\n",
              "count  1030.000000         1030.000000  1030.000000  1030.000000   \n",
              "mean    281.167864           73.895825    54.188350   181.567282   \n",
              "std     104.506364           86.279342    63.997004    21.354219   \n",
              "min     102.000000            0.000000     0.000000   121.800000   \n",
              "25%     192.375000            0.000000     0.000000   164.900000   \n",
              "50%     272.900000           22.000000     0.000000   185.000000   \n",
              "75%     350.000000          142.950000   118.300000   192.000000   \n",
              "max     540.000000          359.400000   200.100000   247.000000   \n",
              "\n",
              "       Superplasticizer  Coarse Aggregate  Fine Aggregate          Age  \\\n",
              "count       1030.000000       1030.000000     1030.000000  1030.000000   \n",
              "mean           6.204660        972.918932      773.580485    45.662136   \n",
              "std            5.973841         77.753954       80.175980    63.169912   \n",
              "min            0.000000        801.000000      594.000000     1.000000   \n",
              "25%            0.000000        932.000000      730.950000     7.000000   \n",
              "50%            6.400000        968.000000      779.500000    28.000000   \n",
              "75%           10.200000       1029.400000      824.000000    56.000000   \n",
              "max           32.200000       1145.000000      992.600000   365.000000   \n",
              "\n",
              "          Strength  \n",
              "count  1030.000000  \n",
              "mean     35.817961  \n",
              "std      16.705742  \n",
              "min       2.330000  \n",
              "25%      23.710000  \n",
              "50%      34.445000  \n",
              "75%      46.135000  \n",
              "max      82.600000  "
            ],
            "text/html": [
              "\n",
              "  <div id=\"df-685fc8a0-88e8-4c00-9277-6690aa97f240\">\n",
              "    <div class=\"colab-df-container\">\n",
              "      <div>\n",
              "<style scoped>\n",
              "    .dataframe tbody tr th:only-of-type {\n",
              "        vertical-align: middle;\n",
              "    }\n",
              "\n",
              "    .dataframe tbody tr th {\n",
              "        vertical-align: top;\n",
              "    }\n",
              "\n",
              "    .dataframe thead th {\n",
              "        text-align: right;\n",
              "    }\n",
              "</style>\n",
              "<table border=\"1\" class=\"dataframe\">\n",
              "  <thead>\n",
              "    <tr style=\"text-align: right;\">\n",
              "      <th></th>\n",
              "      <th>Cement</th>\n",
              "      <th>Blast Furnace Slag</th>\n",
              "      <th>Fly Ash</th>\n",
              "      <th>Water</th>\n",
              "      <th>Superplasticizer</th>\n",
              "      <th>Coarse Aggregate</th>\n",
              "      <th>Fine Aggregate</th>\n",
              "      <th>Age</th>\n",
              "      <th>Strength</th>\n",
              "    </tr>\n",
              "  </thead>\n",
              "  <tbody>\n",
              "    <tr>\n",
              "      <th>count</th>\n",
              "      <td>1030.000000</td>\n",
              "      <td>1030.000000</td>\n",
              "      <td>1030.000000</td>\n",
              "      <td>1030.000000</td>\n",
              "      <td>1030.000000</td>\n",
              "      <td>1030.000000</td>\n",
              "      <td>1030.000000</td>\n",
              "      <td>1030.000000</td>\n",
              "      <td>1030.000000</td>\n",
              "    </tr>\n",
              "    <tr>\n",
              "      <th>mean</th>\n",
              "      <td>281.167864</td>\n",
              "      <td>73.895825</td>\n",
              "      <td>54.188350</td>\n",
              "      <td>181.567282</td>\n",
              "      <td>6.204660</td>\n",
              "      <td>972.918932</td>\n",
              "      <td>773.580485</td>\n",
              "      <td>45.662136</td>\n",
              "      <td>35.817961</td>\n",
              "    </tr>\n",
              "    <tr>\n",
              "      <th>std</th>\n",
              "      <td>104.506364</td>\n",
              "      <td>86.279342</td>\n",
              "      <td>63.997004</td>\n",
              "      <td>21.354219</td>\n",
              "      <td>5.973841</td>\n",
              "      <td>77.753954</td>\n",
              "      <td>80.175980</td>\n",
              "      <td>63.169912</td>\n",
              "      <td>16.705742</td>\n",
              "    </tr>\n",
              "    <tr>\n",
              "      <th>min</th>\n",
              "      <td>102.000000</td>\n",
              "      <td>0.000000</td>\n",
              "      <td>0.000000</td>\n",
              "      <td>121.800000</td>\n",
              "      <td>0.000000</td>\n",
              "      <td>801.000000</td>\n",
              "      <td>594.000000</td>\n",
              "      <td>1.000000</td>\n",
              "      <td>2.330000</td>\n",
              "    </tr>\n",
              "    <tr>\n",
              "      <th>25%</th>\n",
              "      <td>192.375000</td>\n",
              "      <td>0.000000</td>\n",
              "      <td>0.000000</td>\n",
              "      <td>164.900000</td>\n",
              "      <td>0.000000</td>\n",
              "      <td>932.000000</td>\n",
              "      <td>730.950000</td>\n",
              "      <td>7.000000</td>\n",
              "      <td>23.710000</td>\n",
              "    </tr>\n",
              "    <tr>\n",
              "      <th>50%</th>\n",
              "      <td>272.900000</td>\n",
              "      <td>22.000000</td>\n",
              "      <td>0.000000</td>\n",
              "      <td>185.000000</td>\n",
              "      <td>6.400000</td>\n",
              "      <td>968.000000</td>\n",
              "      <td>779.500000</td>\n",
              "      <td>28.000000</td>\n",
              "      <td>34.445000</td>\n",
              "    </tr>\n",
              "    <tr>\n",
              "      <th>75%</th>\n",
              "      <td>350.000000</td>\n",
              "      <td>142.950000</td>\n",
              "      <td>118.300000</td>\n",
              "      <td>192.000000</td>\n",
              "      <td>10.200000</td>\n",
              "      <td>1029.400000</td>\n",
              "      <td>824.000000</td>\n",
              "      <td>56.000000</td>\n",
              "      <td>46.135000</td>\n",
              "    </tr>\n",
              "    <tr>\n",
              "      <th>max</th>\n",
              "      <td>540.000000</td>\n",
              "      <td>359.400000</td>\n",
              "      <td>200.100000</td>\n",
              "      <td>247.000000</td>\n",
              "      <td>32.200000</td>\n",
              "      <td>1145.000000</td>\n",
              "      <td>992.600000</td>\n",
              "      <td>365.000000</td>\n",
              "      <td>82.600000</td>\n",
              "    </tr>\n",
              "  </tbody>\n",
              "</table>\n",
              "</div>\n",
              "      <button class=\"colab-df-convert\" onclick=\"convertToInteractive('df-685fc8a0-88e8-4c00-9277-6690aa97f240')\"\n",
              "              title=\"Convert this dataframe to an interactive table.\"\n",
              "              style=\"display:none;\">\n",
              "        \n",
              "  <svg xmlns=\"http://www.w3.org/2000/svg\" height=\"24px\"viewBox=\"0 0 24 24\"\n",
              "       width=\"24px\">\n",
              "    <path d=\"M0 0h24v24H0V0z\" fill=\"none\"/>\n",
              "    <path d=\"M18.56 5.44l.94 2.06.94-2.06 2.06-.94-2.06-.94-.94-2.06-.94 2.06-2.06.94zm-11 1L8.5 8.5l.94-2.06 2.06-.94-2.06-.94L8.5 2.5l-.94 2.06-2.06.94zm10 10l.94 2.06.94-2.06 2.06-.94-2.06-.94-.94-2.06-.94 2.06-2.06.94z\"/><path d=\"M17.41 7.96l-1.37-1.37c-.4-.4-.92-.59-1.43-.59-.52 0-1.04.2-1.43.59L10.3 9.45l-7.72 7.72c-.78.78-.78 2.05 0 2.83L4 21.41c.39.39.9.59 1.41.59.51 0 1.02-.2 1.41-.59l7.78-7.78 2.81-2.81c.8-.78.8-2.07 0-2.86zM5.41 20L4 18.59l7.72-7.72 1.47 1.35L5.41 20z\"/>\n",
              "  </svg>\n",
              "      </button>\n",
              "      \n",
              "  <style>\n",
              "    .colab-df-container {\n",
              "      display:flex;\n",
              "      flex-wrap:wrap;\n",
              "      gap: 12px;\n",
              "    }\n",
              "\n",
              "    .colab-df-convert {\n",
              "      background-color: #E8F0FE;\n",
              "      border: none;\n",
              "      border-radius: 50%;\n",
              "      cursor: pointer;\n",
              "      display: none;\n",
              "      fill: #1967D2;\n",
              "      height: 32px;\n",
              "      padding: 0 0 0 0;\n",
              "      width: 32px;\n",
              "    }\n",
              "\n",
              "    .colab-df-convert:hover {\n",
              "      background-color: #E2EBFA;\n",
              "      box-shadow: 0px 1px 2px rgba(60, 64, 67, 0.3), 0px 1px 3px 1px rgba(60, 64, 67, 0.15);\n",
              "      fill: #174EA6;\n",
              "    }\n",
              "\n",
              "    [theme=dark] .colab-df-convert {\n",
              "      background-color: #3B4455;\n",
              "      fill: #D2E3FC;\n",
              "    }\n",
              "\n",
              "    [theme=dark] .colab-df-convert:hover {\n",
              "      background-color: #434B5C;\n",
              "      box-shadow: 0px 1px 3px 1px rgba(0, 0, 0, 0.15);\n",
              "      filter: drop-shadow(0px 1px 2px rgba(0, 0, 0, 0.3));\n",
              "      fill: #FFFFFF;\n",
              "    }\n",
              "  </style>\n",
              "\n",
              "      <script>\n",
              "        const buttonEl =\n",
              "          document.querySelector('#df-685fc8a0-88e8-4c00-9277-6690aa97f240 button.colab-df-convert');\n",
              "        buttonEl.style.display =\n",
              "          google.colab.kernel.accessAllowed ? 'block' : 'none';\n",
              "\n",
              "        async function convertToInteractive(key) {\n",
              "          const element = document.querySelector('#df-685fc8a0-88e8-4c00-9277-6690aa97f240');\n",
              "          const dataTable =\n",
              "            await google.colab.kernel.invokeFunction('convertToInteractive',\n",
              "                                                     [key], {});\n",
              "          if (!dataTable) return;\n",
              "\n",
              "          const docLinkHtml = 'Like what you see? Visit the ' +\n",
              "            '<a target=\"_blank\" href=https://colab.research.google.com/notebooks/data_table.ipynb>data table notebook</a>'\n",
              "            + ' to learn more about interactive tables.';\n",
              "          element.innerHTML = '';\n",
              "          dataTable['output_type'] = 'display_data';\n",
              "          await google.colab.output.renderOutput(dataTable, element);\n",
              "          const docLink = document.createElement('div');\n",
              "          docLink.innerHTML = docLinkHtml;\n",
              "          element.appendChild(docLink);\n",
              "        }\n",
              "      </script>\n",
              "    </div>\n",
              "  </div>\n",
              "  "
            ]
          },
          "metadata": {},
          "execution_count": 4
        }
      ],
      "source": [
        "concrete_data.describe()"
      ]
    },
    {
      "cell_type": "code",
      "execution_count": 5,
      "metadata": {
        "colab": {
          "base_uri": "https://localhost:8080/"
        },
        "id": "vBZn0ujMdOhE",
        "outputId": "6df31b2d-7446-4ea9-dd50-37af5973d0c4"
      },
      "outputs": [
        {
          "output_type": "execute_result",
          "data": {
            "text/plain": [
              "Cement                0\n",
              "Blast Furnace Slag    0\n",
              "Fly Ash               0\n",
              "Water                 0\n",
              "Superplasticizer      0\n",
              "Coarse Aggregate      0\n",
              "Fine Aggregate        0\n",
              "Age                   0\n",
              "Strength              0\n",
              "dtype: int64"
            ]
          },
          "metadata": {},
          "execution_count": 5
        }
      ],
      "source": [
        "concrete_data.isnull().sum()"
      ]
    },
    {
      "cell_type": "markdown",
      "metadata": {
        "id": "5nk60DTtdOhE"
      },
      "source": [
        "The data looks very clean and is ready to be used to build our model."
      ]
    },
    {
      "cell_type": "markdown",
      "metadata": {
        "id": "qMQj_ozMdOhE"
      },
      "source": [
        "#### Split data into predictors and target"
      ]
    },
    {
      "cell_type": "markdown",
      "metadata": {
        "id": "pZ-jbaGGdOhE"
      },
      "source": [
        "The target variable in this problem is the concrete sample strength. Therefore, our predictors will be all the other columns."
      ]
    },
    {
      "cell_type": "code",
      "execution_count": 6,
      "metadata": {
        "id": "_4DDjqugdOhF"
      },
      "outputs": [],
      "source": [
        "concrete_data_columns = concrete_data.columns\n",
        "predictors = concrete_data[concrete_data_columns[concrete_data_columns != 'Strength']] # all columns except Strength\n",
        "target = concrete_data['Strength'] # Strength column"
      ]
    },
    {
      "cell_type": "markdown",
      "metadata": {
        "id": "_9nTwRsydOhF"
      },
      "source": [
        "Let's do a quick sanity check of the predictors and the target dataframes."
      ]
    },
    {
      "cell_type": "code",
      "execution_count": 7,
      "metadata": {
        "colab": {
          "base_uri": "https://localhost:8080/",
          "height": 206
        },
        "id": "IkQVMk-fdOhG",
        "outputId": "4573cd60-1651-4ee9-d7ac-4d2a234040e5"
      },
      "outputs": [
        {
          "output_type": "execute_result",
          "data": {
            "text/plain": [
              "   Cement  Blast Furnace Slag  Fly Ash  Water  Superplasticizer  \\\n",
              "0   540.0                 0.0      0.0  162.0               2.5   \n",
              "1   540.0                 0.0      0.0  162.0               2.5   \n",
              "2   332.5               142.5      0.0  228.0               0.0   \n",
              "3   332.5               142.5      0.0  228.0               0.0   \n",
              "4   198.6               132.4      0.0  192.0               0.0   \n",
              "\n",
              "   Coarse Aggregate  Fine Aggregate  Age  \n",
              "0            1040.0           676.0   28  \n",
              "1            1055.0           676.0   28  \n",
              "2             932.0           594.0  270  \n",
              "3             932.0           594.0  365  \n",
              "4             978.4           825.5  360  "
            ],
            "text/html": [
              "\n",
              "  <div id=\"df-e67cea2c-da0e-41e5-90bb-e082a933c320\">\n",
              "    <div class=\"colab-df-container\">\n",
              "      <div>\n",
              "<style scoped>\n",
              "    .dataframe tbody tr th:only-of-type {\n",
              "        vertical-align: middle;\n",
              "    }\n",
              "\n",
              "    .dataframe tbody tr th {\n",
              "        vertical-align: top;\n",
              "    }\n",
              "\n",
              "    .dataframe thead th {\n",
              "        text-align: right;\n",
              "    }\n",
              "</style>\n",
              "<table border=\"1\" class=\"dataframe\">\n",
              "  <thead>\n",
              "    <tr style=\"text-align: right;\">\n",
              "      <th></th>\n",
              "      <th>Cement</th>\n",
              "      <th>Blast Furnace Slag</th>\n",
              "      <th>Fly Ash</th>\n",
              "      <th>Water</th>\n",
              "      <th>Superplasticizer</th>\n",
              "      <th>Coarse Aggregate</th>\n",
              "      <th>Fine Aggregate</th>\n",
              "      <th>Age</th>\n",
              "    </tr>\n",
              "  </thead>\n",
              "  <tbody>\n",
              "    <tr>\n",
              "      <th>0</th>\n",
              "      <td>540.0</td>\n",
              "      <td>0.0</td>\n",
              "      <td>0.0</td>\n",
              "      <td>162.0</td>\n",
              "      <td>2.5</td>\n",
              "      <td>1040.0</td>\n",
              "      <td>676.0</td>\n",
              "      <td>28</td>\n",
              "    </tr>\n",
              "    <tr>\n",
              "      <th>1</th>\n",
              "      <td>540.0</td>\n",
              "      <td>0.0</td>\n",
              "      <td>0.0</td>\n",
              "      <td>162.0</td>\n",
              "      <td>2.5</td>\n",
              "      <td>1055.0</td>\n",
              "      <td>676.0</td>\n",
              "      <td>28</td>\n",
              "    </tr>\n",
              "    <tr>\n",
              "      <th>2</th>\n",
              "      <td>332.5</td>\n",
              "      <td>142.5</td>\n",
              "      <td>0.0</td>\n",
              "      <td>228.0</td>\n",
              "      <td>0.0</td>\n",
              "      <td>932.0</td>\n",
              "      <td>594.0</td>\n",
              "      <td>270</td>\n",
              "    </tr>\n",
              "    <tr>\n",
              "      <th>3</th>\n",
              "      <td>332.5</td>\n",
              "      <td>142.5</td>\n",
              "      <td>0.0</td>\n",
              "      <td>228.0</td>\n",
              "      <td>0.0</td>\n",
              "      <td>932.0</td>\n",
              "      <td>594.0</td>\n",
              "      <td>365</td>\n",
              "    </tr>\n",
              "    <tr>\n",
              "      <th>4</th>\n",
              "      <td>198.6</td>\n",
              "      <td>132.4</td>\n",
              "      <td>0.0</td>\n",
              "      <td>192.0</td>\n",
              "      <td>0.0</td>\n",
              "      <td>978.4</td>\n",
              "      <td>825.5</td>\n",
              "      <td>360</td>\n",
              "    </tr>\n",
              "  </tbody>\n",
              "</table>\n",
              "</div>\n",
              "      <button class=\"colab-df-convert\" onclick=\"convertToInteractive('df-e67cea2c-da0e-41e5-90bb-e082a933c320')\"\n",
              "              title=\"Convert this dataframe to an interactive table.\"\n",
              "              style=\"display:none;\">\n",
              "        \n",
              "  <svg xmlns=\"http://www.w3.org/2000/svg\" height=\"24px\"viewBox=\"0 0 24 24\"\n",
              "       width=\"24px\">\n",
              "    <path d=\"M0 0h24v24H0V0z\" fill=\"none\"/>\n",
              "    <path d=\"M18.56 5.44l.94 2.06.94-2.06 2.06-.94-2.06-.94-.94-2.06-.94 2.06-2.06.94zm-11 1L8.5 8.5l.94-2.06 2.06-.94-2.06-.94L8.5 2.5l-.94 2.06-2.06.94zm10 10l.94 2.06.94-2.06 2.06-.94-2.06-.94-.94-2.06-.94 2.06-2.06.94z\"/><path d=\"M17.41 7.96l-1.37-1.37c-.4-.4-.92-.59-1.43-.59-.52 0-1.04.2-1.43.59L10.3 9.45l-7.72 7.72c-.78.78-.78 2.05 0 2.83L4 21.41c.39.39.9.59 1.41.59.51 0 1.02-.2 1.41-.59l7.78-7.78 2.81-2.81c.8-.78.8-2.07 0-2.86zM5.41 20L4 18.59l7.72-7.72 1.47 1.35L5.41 20z\"/>\n",
              "  </svg>\n",
              "      </button>\n",
              "      \n",
              "  <style>\n",
              "    .colab-df-container {\n",
              "      display:flex;\n",
              "      flex-wrap:wrap;\n",
              "      gap: 12px;\n",
              "    }\n",
              "\n",
              "    .colab-df-convert {\n",
              "      background-color: #E8F0FE;\n",
              "      border: none;\n",
              "      border-radius: 50%;\n",
              "      cursor: pointer;\n",
              "      display: none;\n",
              "      fill: #1967D2;\n",
              "      height: 32px;\n",
              "      padding: 0 0 0 0;\n",
              "      width: 32px;\n",
              "    }\n",
              "\n",
              "    .colab-df-convert:hover {\n",
              "      background-color: #E2EBFA;\n",
              "      box-shadow: 0px 1px 2px rgba(60, 64, 67, 0.3), 0px 1px 3px 1px rgba(60, 64, 67, 0.15);\n",
              "      fill: #174EA6;\n",
              "    }\n",
              "\n",
              "    [theme=dark] .colab-df-convert {\n",
              "      background-color: #3B4455;\n",
              "      fill: #D2E3FC;\n",
              "    }\n",
              "\n",
              "    [theme=dark] .colab-df-convert:hover {\n",
              "      background-color: #434B5C;\n",
              "      box-shadow: 0px 1px 3px 1px rgba(0, 0, 0, 0.15);\n",
              "      filter: drop-shadow(0px 1px 2px rgba(0, 0, 0, 0.3));\n",
              "      fill: #FFFFFF;\n",
              "    }\n",
              "  </style>\n",
              "\n",
              "      <script>\n",
              "        const buttonEl =\n",
              "          document.querySelector('#df-e67cea2c-da0e-41e5-90bb-e082a933c320 button.colab-df-convert');\n",
              "        buttonEl.style.display =\n",
              "          google.colab.kernel.accessAllowed ? 'block' : 'none';\n",
              "\n",
              "        async function convertToInteractive(key) {\n",
              "          const element = document.querySelector('#df-e67cea2c-da0e-41e5-90bb-e082a933c320');\n",
              "          const dataTable =\n",
              "            await google.colab.kernel.invokeFunction('convertToInteractive',\n",
              "                                                     [key], {});\n",
              "          if (!dataTable) return;\n",
              "\n",
              "          const docLinkHtml = 'Like what you see? Visit the ' +\n",
              "            '<a target=\"_blank\" href=https://colab.research.google.com/notebooks/data_table.ipynb>data table notebook</a>'\n",
              "            + ' to learn more about interactive tables.';\n",
              "          element.innerHTML = '';\n",
              "          dataTable['output_type'] = 'display_data';\n",
              "          await google.colab.output.renderOutput(dataTable, element);\n",
              "          const docLink = document.createElement('div');\n",
              "          docLink.innerHTML = docLinkHtml;\n",
              "          element.appendChild(docLink);\n",
              "        }\n",
              "      </script>\n",
              "    </div>\n",
              "  </div>\n",
              "  "
            ]
          },
          "metadata": {},
          "execution_count": 7
        }
      ],
      "source": [
        "predictors.head()"
      ]
    },
    {
      "cell_type": "code",
      "execution_count": 8,
      "metadata": {
        "colab": {
          "base_uri": "https://localhost:8080/"
        },
        "id": "4xNSMJIldOhG",
        "outputId": "2660a5cb-6a10-4080-9429-fe2fcffb9a9f"
      },
      "outputs": [
        {
          "output_type": "execute_result",
          "data": {
            "text/plain": [
              "0    79.99\n",
              "1    61.89\n",
              "2    40.27\n",
              "3    41.05\n",
              "4    44.30\n",
              "Name: Strength, dtype: float64"
            ]
          },
          "metadata": {},
          "execution_count": 8
        }
      ],
      "source": [
        "target.head()"
      ]
    },
    {
      "cell_type": "markdown",
      "metadata": {
        "id": "CelD52L3dOhG"
      },
      "source": [
        "Finally, the last step is to normalize the data by substracting the mean and dividing by the standard deviation."
      ]
    },
    {
      "cell_type": "code",
      "execution_count": 9,
      "metadata": {
        "colab": {
          "base_uri": "https://localhost:8080/",
          "height": 206
        },
        "id": "tNhtRmFmdOhH",
        "outputId": "a4133c4a-c62f-4013-998b-9303cc1ab4dd"
      },
      "outputs": [
        {
          "output_type": "execute_result",
          "data": {
            "text/plain": [
              "     Cement  Blast Furnace Slag   Fly Ash     Water  Superplasticizer  \\\n",
              "0  2.476712           -0.856472 -0.846733 -0.916319         -0.620147   \n",
              "1  2.476712           -0.856472 -0.846733 -0.916319         -0.620147   \n",
              "2  0.491187            0.795140 -0.846733  2.174405         -1.038638   \n",
              "3  0.491187            0.795140 -0.846733  2.174405         -1.038638   \n",
              "4 -0.790075            0.678079 -0.846733  0.488555         -1.038638   \n",
              "\n",
              "   Coarse Aggregate  Fine Aggregate       Age  \n",
              "0          0.862735       -1.217079 -0.279597  \n",
              "1          1.055651       -1.217079 -0.279597  \n",
              "2         -0.526262       -2.239829  3.551340  \n",
              "3         -0.526262       -2.239829  5.055221  \n",
              "4          0.070492        0.647569  4.976069  "
            ],
            "text/html": [
              "\n",
              "  <div id=\"df-cd46b09e-4c4a-4a96-9c56-8ee7ffb6703a\">\n",
              "    <div class=\"colab-df-container\">\n",
              "      <div>\n",
              "<style scoped>\n",
              "    .dataframe tbody tr th:only-of-type {\n",
              "        vertical-align: middle;\n",
              "    }\n",
              "\n",
              "    .dataframe tbody tr th {\n",
              "        vertical-align: top;\n",
              "    }\n",
              "\n",
              "    .dataframe thead th {\n",
              "        text-align: right;\n",
              "    }\n",
              "</style>\n",
              "<table border=\"1\" class=\"dataframe\">\n",
              "  <thead>\n",
              "    <tr style=\"text-align: right;\">\n",
              "      <th></th>\n",
              "      <th>Cement</th>\n",
              "      <th>Blast Furnace Slag</th>\n",
              "      <th>Fly Ash</th>\n",
              "      <th>Water</th>\n",
              "      <th>Superplasticizer</th>\n",
              "      <th>Coarse Aggregate</th>\n",
              "      <th>Fine Aggregate</th>\n",
              "      <th>Age</th>\n",
              "    </tr>\n",
              "  </thead>\n",
              "  <tbody>\n",
              "    <tr>\n",
              "      <th>0</th>\n",
              "      <td>2.476712</td>\n",
              "      <td>-0.856472</td>\n",
              "      <td>-0.846733</td>\n",
              "      <td>-0.916319</td>\n",
              "      <td>-0.620147</td>\n",
              "      <td>0.862735</td>\n",
              "      <td>-1.217079</td>\n",
              "      <td>-0.279597</td>\n",
              "    </tr>\n",
              "    <tr>\n",
              "      <th>1</th>\n",
              "      <td>2.476712</td>\n",
              "      <td>-0.856472</td>\n",
              "      <td>-0.846733</td>\n",
              "      <td>-0.916319</td>\n",
              "      <td>-0.620147</td>\n",
              "      <td>1.055651</td>\n",
              "      <td>-1.217079</td>\n",
              "      <td>-0.279597</td>\n",
              "    </tr>\n",
              "    <tr>\n",
              "      <th>2</th>\n",
              "      <td>0.491187</td>\n",
              "      <td>0.795140</td>\n",
              "      <td>-0.846733</td>\n",
              "      <td>2.174405</td>\n",
              "      <td>-1.038638</td>\n",
              "      <td>-0.526262</td>\n",
              "      <td>-2.239829</td>\n",
              "      <td>3.551340</td>\n",
              "    </tr>\n",
              "    <tr>\n",
              "      <th>3</th>\n",
              "      <td>0.491187</td>\n",
              "      <td>0.795140</td>\n",
              "      <td>-0.846733</td>\n",
              "      <td>2.174405</td>\n",
              "      <td>-1.038638</td>\n",
              "      <td>-0.526262</td>\n",
              "      <td>-2.239829</td>\n",
              "      <td>5.055221</td>\n",
              "    </tr>\n",
              "    <tr>\n",
              "      <th>4</th>\n",
              "      <td>-0.790075</td>\n",
              "      <td>0.678079</td>\n",
              "      <td>-0.846733</td>\n",
              "      <td>0.488555</td>\n",
              "      <td>-1.038638</td>\n",
              "      <td>0.070492</td>\n",
              "      <td>0.647569</td>\n",
              "      <td>4.976069</td>\n",
              "    </tr>\n",
              "  </tbody>\n",
              "</table>\n",
              "</div>\n",
              "      <button class=\"colab-df-convert\" onclick=\"convertToInteractive('df-cd46b09e-4c4a-4a96-9c56-8ee7ffb6703a')\"\n",
              "              title=\"Convert this dataframe to an interactive table.\"\n",
              "              style=\"display:none;\">\n",
              "        \n",
              "  <svg xmlns=\"http://www.w3.org/2000/svg\" height=\"24px\"viewBox=\"0 0 24 24\"\n",
              "       width=\"24px\">\n",
              "    <path d=\"M0 0h24v24H0V0z\" fill=\"none\"/>\n",
              "    <path d=\"M18.56 5.44l.94 2.06.94-2.06 2.06-.94-2.06-.94-.94-2.06-.94 2.06-2.06.94zm-11 1L8.5 8.5l.94-2.06 2.06-.94-2.06-.94L8.5 2.5l-.94 2.06-2.06.94zm10 10l.94 2.06.94-2.06 2.06-.94-2.06-.94-.94-2.06-.94 2.06-2.06.94z\"/><path d=\"M17.41 7.96l-1.37-1.37c-.4-.4-.92-.59-1.43-.59-.52 0-1.04.2-1.43.59L10.3 9.45l-7.72 7.72c-.78.78-.78 2.05 0 2.83L4 21.41c.39.39.9.59 1.41.59.51 0 1.02-.2 1.41-.59l7.78-7.78 2.81-2.81c.8-.78.8-2.07 0-2.86zM5.41 20L4 18.59l7.72-7.72 1.47 1.35L5.41 20z\"/>\n",
              "  </svg>\n",
              "      </button>\n",
              "      \n",
              "  <style>\n",
              "    .colab-df-container {\n",
              "      display:flex;\n",
              "      flex-wrap:wrap;\n",
              "      gap: 12px;\n",
              "    }\n",
              "\n",
              "    .colab-df-convert {\n",
              "      background-color: #E8F0FE;\n",
              "      border: none;\n",
              "      border-radius: 50%;\n",
              "      cursor: pointer;\n",
              "      display: none;\n",
              "      fill: #1967D2;\n",
              "      height: 32px;\n",
              "      padding: 0 0 0 0;\n",
              "      width: 32px;\n",
              "    }\n",
              "\n",
              "    .colab-df-convert:hover {\n",
              "      background-color: #E2EBFA;\n",
              "      box-shadow: 0px 1px 2px rgba(60, 64, 67, 0.3), 0px 1px 3px 1px rgba(60, 64, 67, 0.15);\n",
              "      fill: #174EA6;\n",
              "    }\n",
              "\n",
              "    [theme=dark] .colab-df-convert {\n",
              "      background-color: #3B4455;\n",
              "      fill: #D2E3FC;\n",
              "    }\n",
              "\n",
              "    [theme=dark] .colab-df-convert:hover {\n",
              "      background-color: #434B5C;\n",
              "      box-shadow: 0px 1px 3px 1px rgba(0, 0, 0, 0.15);\n",
              "      filter: drop-shadow(0px 1px 2px rgba(0, 0, 0, 0.3));\n",
              "      fill: #FFFFFF;\n",
              "    }\n",
              "  </style>\n",
              "\n",
              "      <script>\n",
              "        const buttonEl =\n",
              "          document.querySelector('#df-cd46b09e-4c4a-4a96-9c56-8ee7ffb6703a button.colab-df-convert');\n",
              "        buttonEl.style.display =\n",
              "          google.colab.kernel.accessAllowed ? 'block' : 'none';\n",
              "\n",
              "        async function convertToInteractive(key) {\n",
              "          const element = document.querySelector('#df-cd46b09e-4c4a-4a96-9c56-8ee7ffb6703a');\n",
              "          const dataTable =\n",
              "            await google.colab.kernel.invokeFunction('convertToInteractive',\n",
              "                                                     [key], {});\n",
              "          if (!dataTable) return;\n",
              "\n",
              "          const docLinkHtml = 'Like what you see? Visit the ' +\n",
              "            '<a target=\"_blank\" href=https://colab.research.google.com/notebooks/data_table.ipynb>data table notebook</a>'\n",
              "            + ' to learn more about interactive tables.';\n",
              "          element.innerHTML = '';\n",
              "          dataTable['output_type'] = 'display_data';\n",
              "          await google.colab.output.renderOutput(dataTable, element);\n",
              "          const docLink = document.createElement('div');\n",
              "          docLink.innerHTML = docLinkHtml;\n",
              "          element.appendChild(docLink);\n",
              "        }\n",
              "      </script>\n",
              "    </div>\n",
              "  </div>\n",
              "  "
            ]
          },
          "metadata": {},
          "execution_count": 9
        }
      ],
      "source": [
        "predictors_norm = (predictors - predictors.mean()) / predictors.std()\n",
        "predictors_norm.head()"
      ]
    },
    {
      "cell_type": "code",
      "execution_count": 10,
      "metadata": {
        "id": "DQVn8se4dOhH"
      },
      "outputs": [],
      "source": [
        "n_cols = predictors_norm.shape[1] # number of predictors"
      ]
    },
    {
      "cell_type": "markdown",
      "metadata": {
        "id": "lntEHJyCdOhH"
      },
      "source": [
        "<a id=\"item1\"></a>"
      ]
    },
    {
      "cell_type": "markdown",
      "metadata": {
        "id": "z8wuuIqpdOhI"
      },
      "source": [
        "<a id=\"item1\"></a>"
      ]
    },
    {
      "cell_type": "markdown",
      "metadata": {
        "id": "_cxYGx5rdOhI"
      },
      "source": [
        "## Import Keras"
      ]
    },
    {
      "cell_type": "markdown",
      "metadata": {
        "id": "XzrZjbmNdOhI"
      },
      "source": [
        "#### Let's go ahead and import the Keras library"
      ]
    },
    {
      "cell_type": "code",
      "execution_count": 11,
      "metadata": {
        "id": "PFixpboRdOhI"
      },
      "outputs": [],
      "source": [
        "import keras"
      ]
    },
    {
      "cell_type": "markdown",
      "metadata": {
        "id": "yHSVOHvldOhI"
      },
      "source": [
        "As you can see, the TensorFlow backend was used to install the Keras library."
      ]
    },
    {
      "cell_type": "markdown",
      "metadata": {
        "id": "vETrlH1edOhI"
      },
      "source": [
        "Let's import the rest of the packages from the Keras library that we will need to build our regressoin model."
      ]
    },
    {
      "cell_type": "code",
      "execution_count": 12,
      "metadata": {
        "id": "vaKp-Y1OdOhJ"
      },
      "outputs": [],
      "source": [
        "from keras.models import Sequential\n",
        "from keras.layers import Dense"
      ]
    },
    {
      "cell_type": "code",
      "execution_count": 13,
      "metadata": {
        "id": "Zu7WcdwJdOhJ"
      },
      "outputs": [],
      "source": [
        "# define regression model\n",
        "def regression_model():\n",
        "    # create model\n",
        "    model = Sequential()\n",
        "    model.add(Dense(10, activation='relu', input_shape=(n_cols,)))\n",
        "    model.add(Dense(10, activation='relu'))\n",
        "    model.add(Dense(10, activation='relu'))\n",
        "    model.add(Dense(1))\n",
        "    \n",
        "    # compile model\n",
        "    model.compile(optimizer='adam', loss='mean_squared_error')\n",
        "    return model"
      ]
    },
    {
      "cell_type": "markdown",
      "metadata": {
        "id": "t8Of8kDwdOhJ"
      },
      "source": [
        "The above function creates a model that has three hidden layers each with 10 neurons and ReLU activation function. It uses the adam optimizer and the mean squared error as the loss function."
      ]
    },
    {
      "cell_type": "markdown",
      "metadata": {
        "id": "gsjPVcGWdOhJ"
      },
      "source": [
        "Let's import scikit-learn in order to randomly split the data into a training and test sets"
      ]
    },
    {
      "cell_type": "code",
      "execution_count": 14,
      "metadata": {
        "id": "6VBAqCIqdOhJ"
      },
      "outputs": [],
      "source": [
        "from sklearn.model_selection import train_test_split"
      ]
    },
    {
      "cell_type": "markdown",
      "metadata": {
        "id": "JmrFwqsHdOhK"
      },
      "source": [
        "Splitting the data into a training and test sets by holding 30% of the data for testing"
      ]
    },
    {
      "cell_type": "code",
      "execution_count": 15,
      "metadata": {
        "id": "j9wF36D1dOhK"
      },
      "outputs": [],
      "source": [
        "X_train, X_test, y_train, y_test = train_test_split(predictors_norm, target, test_size=0.3, random_state=42)"
      ]
    },
    {
      "cell_type": "markdown",
      "metadata": {
        "id": "CdrFcrBUdOhK"
      },
      "source": [
        "## Train and Test the Network"
      ]
    },
    {
      "cell_type": "markdown",
      "metadata": {
        "id": "VtynHjF7dOhK"
      },
      "source": [
        "Let's call the function now to create our model."
      ]
    },
    {
      "cell_type": "code",
      "execution_count": 16,
      "metadata": {
        "id": "FM8cINtTdOhL"
      },
      "outputs": [],
      "source": [
        "# build the model\n",
        "model = regression_model()"
      ]
    },
    {
      "cell_type": "markdown",
      "metadata": {
        "id": "3W-0OdbVdOhL"
      },
      "source": [
        "Next, we will train the model for 50 epochs.\n"
      ]
    },
    {
      "cell_type": "code",
      "execution_count": 17,
      "metadata": {
        "colab": {
          "base_uri": "https://localhost:8080/"
        },
        "id": "SuCbYMUwdOhL",
        "outputId": "b1b82009-9a7b-4179-eb3a-ce94ee101aa1"
      },
      "outputs": [
        {
          "output_type": "stream",
          "name": "stdout",
          "text": [
            "Epoch 1/50\n",
            "23/23 - 1s - loss: 1578.2290 - 778ms/epoch - 34ms/step\n",
            "Epoch 2/50\n",
            "23/23 - 0s - loss: 1554.6650 - 41ms/epoch - 2ms/step\n",
            "Epoch 3/50\n",
            "23/23 - 0s - loss: 1521.2913 - 42ms/epoch - 2ms/step\n",
            "Epoch 4/50\n",
            "23/23 - 0s - loss: 1467.3510 - 40ms/epoch - 2ms/step\n",
            "Epoch 5/50\n",
            "23/23 - 0s - loss: 1379.2277 - 38ms/epoch - 2ms/step\n",
            "Epoch 6/50\n",
            "23/23 - 0s - loss: 1245.2229 - 42ms/epoch - 2ms/step\n",
            "Epoch 7/50\n",
            "23/23 - 0s - loss: 1063.8859 - 44ms/epoch - 2ms/step\n",
            "Epoch 8/50\n",
            "23/23 - 0s - loss: 836.4374 - 46ms/epoch - 2ms/step\n",
            "Epoch 9/50\n",
            "23/23 - 0s - loss: 598.3947 - 40ms/epoch - 2ms/step\n",
            "Epoch 10/50\n",
            "23/23 - 0s - loss: 427.5674 - 40ms/epoch - 2ms/step\n",
            "Epoch 11/50\n",
            "23/23 - 0s - loss: 337.7961 - 39ms/epoch - 2ms/step\n",
            "Epoch 12/50\n",
            "23/23 - 0s - loss: 298.7182 - 46ms/epoch - 2ms/step\n",
            "Epoch 13/50\n",
            "23/23 - 0s - loss: 270.6611 - 42ms/epoch - 2ms/step\n",
            "Epoch 14/50\n",
            "23/23 - 0s - loss: 250.9599 - 38ms/epoch - 2ms/step\n",
            "Epoch 15/50\n",
            "23/23 - 0s - loss: 236.1766 - 38ms/epoch - 2ms/step\n",
            "Epoch 16/50\n",
            "23/23 - 0s - loss: 224.1557 - 40ms/epoch - 2ms/step\n",
            "Epoch 17/50\n",
            "23/23 - 0s - loss: 215.3168 - 40ms/epoch - 2ms/step\n",
            "Epoch 18/50\n",
            "23/23 - 0s - loss: 207.0246 - 40ms/epoch - 2ms/step\n",
            "Epoch 19/50\n",
            "23/23 - 0s - loss: 200.2846 - 40ms/epoch - 2ms/step\n",
            "Epoch 20/50\n",
            "23/23 - 0s - loss: 194.3751 - 38ms/epoch - 2ms/step\n",
            "Epoch 21/50\n",
            "23/23 - 0s - loss: 189.5724 - 41ms/epoch - 2ms/step\n",
            "Epoch 22/50\n",
            "23/23 - 0s - loss: 183.8085 - 42ms/epoch - 2ms/step\n",
            "Epoch 23/50\n",
            "23/23 - 0s - loss: 179.3632 - 42ms/epoch - 2ms/step\n",
            "Epoch 24/50\n",
            "23/23 - 0s - loss: 174.6929 - 50ms/epoch - 2ms/step\n",
            "Epoch 25/50\n",
            "23/23 - 0s - loss: 170.3678 - 42ms/epoch - 2ms/step\n",
            "Epoch 26/50\n",
            "23/23 - 0s - loss: 166.1148 - 47ms/epoch - 2ms/step\n",
            "Epoch 27/50\n",
            "23/23 - 0s - loss: 161.8918 - 45ms/epoch - 2ms/step\n",
            "Epoch 28/50\n",
            "23/23 - 0s - loss: 157.7564 - 39ms/epoch - 2ms/step\n",
            "Epoch 29/50\n",
            "23/23 - 0s - loss: 153.6213 - 52ms/epoch - 2ms/step\n",
            "Epoch 30/50\n",
            "23/23 - 0s - loss: 149.9361 - 40ms/epoch - 2ms/step\n",
            "Epoch 31/50\n",
            "23/23 - 0s - loss: 145.7868 - 40ms/epoch - 2ms/step\n",
            "Epoch 32/50\n",
            "23/23 - 0s - loss: 142.1279 - 49ms/epoch - 2ms/step\n",
            "Epoch 33/50\n",
            "23/23 - 0s - loss: 138.0082 - 39ms/epoch - 2ms/step\n",
            "Epoch 34/50\n",
            "23/23 - 0s - loss: 134.4651 - 39ms/epoch - 2ms/step\n",
            "Epoch 35/50\n",
            "23/23 - 0s - loss: 130.8578 - 41ms/epoch - 2ms/step\n",
            "Epoch 36/50\n",
            "23/23 - 0s - loss: 128.1265 - 41ms/epoch - 2ms/step\n",
            "Epoch 37/50\n",
            "23/23 - 0s - loss: 124.7817 - 40ms/epoch - 2ms/step\n",
            "Epoch 38/50\n",
            "23/23 - 0s - loss: 121.5548 - 42ms/epoch - 2ms/step\n",
            "Epoch 39/50\n",
            "23/23 - 0s - loss: 119.1323 - 53ms/epoch - 2ms/step\n",
            "Epoch 40/50\n",
            "23/23 - 0s - loss: 116.3473 - 43ms/epoch - 2ms/step\n",
            "Epoch 41/50\n",
            "23/23 - 0s - loss: 113.7486 - 40ms/epoch - 2ms/step\n",
            "Epoch 42/50\n",
            "23/23 - 0s - loss: 111.3425 - 37ms/epoch - 2ms/step\n",
            "Epoch 43/50\n",
            "23/23 - 0s - loss: 108.8426 - 40ms/epoch - 2ms/step\n",
            "Epoch 44/50\n",
            "23/23 - 0s - loss: 106.6538 - 44ms/epoch - 2ms/step\n",
            "Epoch 45/50\n",
            "23/23 - 0s - loss: 104.1844 - 57ms/epoch - 2ms/step\n",
            "Epoch 46/50\n",
            "23/23 - 0s - loss: 102.4429 - 40ms/epoch - 2ms/step\n",
            "Epoch 47/50\n",
            "23/23 - 0s - loss: 100.1446 - 41ms/epoch - 2ms/step\n",
            "Epoch 48/50\n",
            "23/23 - 0s - loss: 98.4091 - 38ms/epoch - 2ms/step\n",
            "Epoch 49/50\n",
            "23/23 - 0s - loss: 96.4288 - 38ms/epoch - 2ms/step\n",
            "Epoch 50/50\n",
            "23/23 - 0s - loss: 94.3203 - 40ms/epoch - 2ms/step\n"
          ]
        },
        {
          "output_type": "execute_result",
          "data": {
            "text/plain": [
              "<keras.callbacks.History at 0x7ff78e1d7ac0>"
            ]
          },
          "metadata": {},
          "execution_count": 17
        }
      ],
      "source": [
        "# fit the model\n",
        "epochs = 50\n",
        "model.fit(X_train, y_train, epochs=epochs, verbose=2)"
      ]
    },
    {
      "cell_type": "markdown",
      "metadata": {
        "id": "3ogJ2XwVdOhL"
      },
      "source": [
        "Next we need to evaluate the model on the test data."
      ]
    },
    {
      "cell_type": "code",
      "execution_count": 18,
      "metadata": {
        "colab": {
          "base_uri": "https://localhost:8080/"
        },
        "id": "61up15SjdOhL",
        "outputId": "251feedd-022e-4e28-aee3-4f29349a3ba6"
      },
      "outputs": [
        {
          "output_type": "stream",
          "name": "stdout",
          "text": [
            "10/10 [==============================] - 0s 2ms/step - loss: 97.1730\n",
            "10/10 [==============================] - 0s 2ms/step\n"
          ]
        },
        {
          "output_type": "execute_result",
          "data": {
            "text/plain": [
              "97.17298126220703"
            ]
          },
          "metadata": {},
          "execution_count": 18
        }
      ],
      "source": [
        "loss_val = model.evaluate(X_test, y_test)\n",
        "y_pred = model.predict(X_test)\n",
        "loss_val"
      ]
    },
    {
      "cell_type": "markdown",
      "metadata": {
        "id": "MkimbCMjdOhM"
      },
      "source": [
        "Now we need to compute the mean squared error between the predicted concrete strength and the actual concrete strength."
      ]
    },
    {
      "cell_type": "markdown",
      "metadata": {
        "id": "yykY6EY6dOhM"
      },
      "source": [
        "Let's import the mean_squared_error function from Scikit-learn."
      ]
    },
    {
      "cell_type": "code",
      "execution_count": 19,
      "metadata": {
        "id": "XBiPYx3TdOhM"
      },
      "outputs": [],
      "source": [
        "from sklearn.metrics import mean_squared_error"
      ]
    },
    {
      "cell_type": "code",
      "execution_count": 20,
      "metadata": {
        "colab": {
          "base_uri": "https://localhost:8080/"
        },
        "id": "nw3gVzxWdOhM",
        "outputId": "46513b6a-9419-42fa-ef9f-ee508ea77dd4"
      },
      "outputs": [
        {
          "output_type": "stream",
          "name": "stdout",
          "text": [
            "97.1729819460886 0.0\n"
          ]
        }
      ],
      "source": [
        "mean_square_error = mean_squared_error(y_test, y_pred)\n",
        "mean = np.mean(mean_square_error)\n",
        "standard_deviation = np.std(mean_square_error)\n",
        "print(mean, standard_deviation)"
      ]
    },
    {
      "cell_type": "markdown",
      "metadata": {
        "id": "C97ZW03PdOhM"
      },
      "source": [
        "Create a list of 50 mean squared errors and report mean and the standard deviation of the mean squared errors."
      ]
    },
    {
      "cell_type": "code",
      "execution_count": 21,
      "metadata": {
        "colab": {
          "base_uri": "https://localhost:8080/"
        },
        "id": "J_Rk8RvDdOhN",
        "outputId": "9b53a21a-0b55-4853-8250-447e2ef14b16"
      },
      "outputs": [
        {
          "output_type": "stream",
          "name": "stdout",
          "text": [
            "MSE 1: 54.20808792114258\n",
            "10/10 [==============================] - 0s 2ms/step\n",
            "MSE 2: 57.57987594604492\n",
            "10/10 [==============================] - 0s 3ms/step\n",
            "MSE 3: 38.896236419677734\n",
            "10/10 [==============================] - 0s 3ms/step\n",
            "MSE 4: 41.836700439453125\n",
            "10/10 [==============================] - 0s 2ms/step\n",
            "MSE 5: 39.54666519165039\n",
            "10/10 [==============================] - 0s 2ms/step\n",
            "MSE 6: 38.198360443115234\n",
            "10/10 [==============================] - 0s 2ms/step\n",
            "MSE 7: 43.785736083984375\n",
            "10/10 [==============================] - 0s 2ms/step\n",
            "MSE 8: 31.437789916992188\n",
            "10/10 [==============================] - 0s 2ms/step\n",
            "MSE 9: 32.48527526855469\n",
            "10/10 [==============================] - 0s 2ms/step\n",
            "MSE 10: 33.935665130615234\n",
            "10/10 [==============================] - 0s 3ms/step\n",
            "MSE 11: 32.14793395996094\n",
            "10/10 [==============================] - 0s 2ms/step\n",
            "MSE 12: 29.49874496459961\n",
            "10/10 [==============================] - 0s 2ms/step\n",
            "MSE 13: 35.511661529541016\n",
            "10/10 [==============================] - 0s 2ms/step\n",
            "MSE 14: 36.842506408691406\n",
            "10/10 [==============================] - 0s 2ms/step\n",
            "MSE 15: 30.429000854492188\n",
            "10/10 [==============================] - 0s 1ms/step\n",
            "MSE 16: 27.129426956176758\n",
            "10/10 [==============================] - 0s 2ms/step\n",
            "MSE 17: 27.81078338623047\n",
            "10/10 [==============================] - 0s 2ms/step\n",
            "MSE 18: 28.007768630981445\n",
            "10/10 [==============================] - 0s 2ms/step\n",
            "MSE 19: 27.436311721801758\n",
            "10/10 [==============================] - 0s 3ms/step\n",
            "MSE 20: 30.784286499023438\n",
            "10/10 [==============================] - 0s 2ms/step\n",
            "MSE 21: 28.7021484375\n",
            "10/10 [==============================] - 0s 2ms/step\n",
            "MSE 22: 27.320764541625977\n",
            "10/10 [==============================] - 0s 2ms/step\n",
            "MSE 23: 22.246807098388672\n",
            "10/10 [==============================] - 0s 2ms/step\n",
            "MSE 24: 24.2174015045166\n",
            "10/10 [==============================] - 0s 2ms/step\n",
            "MSE 25: 23.879674911499023\n",
            "10/10 [==============================] - 0s 3ms/step\n",
            "MSE 26: 30.996097564697266\n",
            "10/10 [==============================] - 0s 2ms/step\n",
            "MSE 27: 22.839645385742188\n",
            "10/10 [==============================] - 0s 2ms/step\n",
            "MSE 28: 22.955921173095703\n",
            "10/10 [==============================] - 0s 2ms/step\n",
            "MSE 29: 27.38977813720703\n",
            "10/10 [==============================] - 0s 2ms/step\n",
            "MSE 30: 25.71841049194336\n",
            "10/10 [==============================] - 0s 2ms/step\n",
            "MSE 31: 23.043540954589844\n",
            "10/10 [==============================] - 0s 3ms/step\n",
            "MSE 32: 23.06753158569336\n",
            "10/10 [==============================] - 0s 2ms/step\n",
            "MSE 33: 20.11263084411621\n",
            "10/10 [==============================] - 0s 2ms/step\n",
            "MSE 34: 21.1018123626709\n",
            "10/10 [==============================] - 0s 2ms/step\n",
            "MSE 35: 21.564870834350586\n",
            "10/10 [==============================] - 0s 2ms/step\n",
            "MSE 36: 24.040578842163086\n",
            "10/10 [==============================] - 0s 2ms/step\n",
            "MSE 37: 17.885351181030273\n",
            "10/10 [==============================] - 0s 2ms/step\n",
            "MSE 38: 21.973371505737305\n",
            "10/10 [==============================] - 0s 2ms/step\n",
            "MSE 39: 23.889514923095703\n",
            "10/10 [==============================] - 0s 2ms/step\n",
            "MSE 40: 19.018835067749023\n",
            "10/10 [==============================] - 0s 2ms/step\n",
            "MSE 41: 23.574283599853516\n",
            "10/10 [==============================] - 0s 3ms/step\n",
            "MSE 42: 20.733421325683594\n",
            "10/10 [==============================] - 0s 2ms/step\n",
            "MSE 43: 21.639446258544922\n",
            "10/10 [==============================] - 0s 2ms/step\n",
            "MSE 44: 24.017330169677734\n",
            "10/10 [==============================] - 0s 2ms/step\n",
            "MSE 45: 23.55059814453125\n",
            "10/10 [==============================] - 0s 2ms/step\n",
            "MSE 46: 25.324298858642578\n",
            "10/10 [==============================] - 0s 2ms/step\n",
            "MSE 47: 23.23538589477539\n",
            "10/10 [==============================] - 0s 2ms/step\n",
            "MSE 48: 18.957971572875977\n",
            "10/10 [==============================] - 0s 2ms/step\n",
            "MSE 49: 20.6162052154541\n",
            "10/10 [==============================] - 0s 2ms/step\n",
            "MSE 50: 22.321237564086914\n",
            "10/10 [==============================] - 0s 2ms/step\n",
            "\n",
            "\n",
            "Below is the mean and standard deviation of 50 mean squared errors with normalized data. Total number of epochs for each training is: 50\n",
            "\n",
            "Mean: 28.26887345869492\n",
            "Standard Deviation: 8.392546628984974\n"
          ]
        }
      ],
      "source": [
        "total_mean_squared_errors = 50\n",
        "epochs = 50\n",
        "mean_squared_errors = []\n",
        "for i in range(0, total_mean_squared_errors):\n",
        "    X_train, X_test, y_train, y_test = train_test_split(predictors_norm, target, test_size=0.3, random_state=i)\n",
        "    model.fit(X_train, y_train, epochs=epochs, verbose=0)\n",
        "    MSE = model.evaluate(X_test, y_test, verbose=0)\n",
        "    print(\"MSE \"+str(i+1)+\": \"+str(MSE))\n",
        "    y_pred = model.predict(X_test)\n",
        "    mean_square_error = mean_squared_error(y_test, y_pred)\n",
        "    mean_squared_errors.append(mean_square_error)\n",
        "\n",
        "mean_squared_errors = np.array(mean_squared_errors)\n",
        "mean = np.mean(mean_squared_errors)\n",
        "standard_deviation = np.std(mean_squared_errors)\n",
        "\n",
        "print('\\n')\n",
        "print(\"Below is the mean and standard deviation of \" +str(total_mean_squared_errors) + \" mean squared errors with normalized data. Total number of epochs for each training is: \" +str(epochs) + \"\\n\")\n",
        "print(\"Mean: \"+str(mean))\n",
        "print(\"Standard Deviation: \"+str(standard_deviation))"
      ]
    },
    {
      "cell_type": "code",
      "execution_count": null,
      "metadata": {
        "id": "pbL-eewddOhN"
      },
      "outputs": [],
      "source": []
    }
  ],
  "metadata": {
    "kernelspec": {
      "display_name": "Python 3",
      "language": "python",
      "name": "python3"
    },
    "language_info": {
      "codemirror_mode": {
        "name": "ipython",
        "version": 3
      },
      "file_extension": ".py",
      "mimetype": "text/x-python",
      "name": "python",
      "nbconvert_exporter": "python",
      "pygments_lexer": "ipython3",
      "version": "3.6.9"
    },
    "colab": {
      "provenance": []
    }
  },
  "nbformat": 4,
  "nbformat_minor": 0
}